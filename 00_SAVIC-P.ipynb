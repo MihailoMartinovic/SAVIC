{
 "cells": [
  {
   "cell_type": "code",
   "execution_count": 1,
   "id": "4bb1a659",
   "metadata": {},
   "outputs": [],
   "source": [
    "import xgboost as xgb"
   ]
  },
  {
   "cell_type": "markdown",
   "id": "0f38cda0",
   "metadata": {},
   "source": [
    "## SAVIC-P - C"
   ]
  },
  {
   "cell_type": "markdown",
   "id": "1f59318b",
   "metadata": {},
   "source": [
    "### load SAVIC-P - C XGB classifier "
   ]
  },
  {
   "cell_type": "code",
   "execution_count": 2,
   "id": "87cef771",
   "metadata": {},
   "outputs": [],
   "source": [
    "xgbc_sus_c = xgb.XGBClassifier()\n",
    "xgbc_sus_c.load_model('Output/ML/models/xgbc_sus_c.json')"
   ]
  },
  {
   "cell_type": "markdown",
   "id": "77ff9933",
   "metadata": {},
   "source": [
    "### load SAVIC-P - C processing function"
   ]
  },
  {
   "cell_type": "code",
   "execution_count": 3,
   "id": "afeb1241",
   "metadata": {
    "code_folding": [
     0
    ]
   },
   "outputs": [],
   "source": [
    "def SAVIC_P_C(df_c_):\n",
    "    df_c_pre_SP_ = df_c_.copy()\n",
    "    df_c_pre_SP_ = np.log10(df_c_pre_SP_)\n",
    "    df_c_pre_SP_['unstable'] = xgbc_sus_c.predict(df_c_pre_SP_.values).astype('bool')\n",
    "    \n",
    "    df_c_post_SP_ = df_c_pre_SP_.copy()\n",
    "    df_c_post_SP_[['beta_par_core', 'alph_c']] = pow(10., df_c_post_SP_[['beta_par_core', 'alph_c']])\n",
    "    \n",
    "    return df_c_post_SP_\n",
    "    "
   ]
  },
  {
   "cell_type": "markdown",
   "id": "31e1ffb9",
   "metadata": {},
   "source": [
    "### run SAVIC-P - C "
   ]
  },
  {
   "cell_type": "code",
   "execution_count": 4,
   "id": "bbc42a5c",
   "metadata": {
    "scrolled": true
   },
   "outputs": [
    {
     "data": {
      "text/html": [
       "<div>\n",
       "<style scoped>\n",
       "    .dataframe tbody tr th:only-of-type {\n",
       "        vertical-align: middle;\n",
       "    }\n",
       "\n",
       "    .dataframe tbody tr th {\n",
       "        vertical-align: top;\n",
       "    }\n",
       "\n",
       "    .dataframe thead th {\n",
       "        text-align: right;\n",
       "    }\n",
       "</style>\n",
       "<table border=\"1\" class=\"dataframe\">\n",
       "  <thead>\n",
       "    <tr style=\"text-align: right;\">\n",
       "      <th></th>\n",
       "      <th>beta_par_core</th>\n",
       "      <th>alph_c</th>\n",
       "      <th>unstable</th>\n",
       "    </tr>\n",
       "  </thead>\n",
       "  <tbody>\n",
       "    <tr>\n",
       "      <th>0</th>\n",
       "      <td>1.0</td>\n",
       "      <td>1.0</td>\n",
       "      <td>False</td>\n",
       "    </tr>\n",
       "    <tr>\n",
       "      <th>1</th>\n",
       "      <td>0.5</td>\n",
       "      <td>3.2</td>\n",
       "      <td>True</td>\n",
       "    </tr>\n",
       "    <tr>\n",
       "      <th>2</th>\n",
       "      <td>1.0</td>\n",
       "      <td>0.4</td>\n",
       "      <td>True</td>\n",
       "    </tr>\n",
       "    <tr>\n",
       "      <th>3</th>\n",
       "      <td>12.0</td>\n",
       "      <td>1.2</td>\n",
       "      <td>True</td>\n",
       "    </tr>\n",
       "  </tbody>\n",
       "</table>\n",
       "</div>"
      ],
      "text/plain": [
       "   beta_par_core  alph_c  unstable\n",
       "0            1.0     1.0     False\n",
       "1            0.5     3.2      True\n",
       "2            1.0     0.4      True\n",
       "3           12.0     1.2      True"
      ]
     },
     "execution_count": 4,
     "metadata": {},
     "output_type": "execute_result"
    }
   ],
   "source": [
    "df_c_post_SP = SAVIC_P_C(pd.read_hdf('00_SAVIC_Examples/SAVIC_Examples.h5', key = 'SAVIC-P_C_pre_P'))\n",
    "df_c_post_SP"
   ]
  },
  {
   "cell_type": "code",
   "execution_count": null,
   "id": "9b90fa0c",
   "metadata": {},
   "outputs": [],
   "source": []
  },
  {
   "cell_type": "markdown",
   "id": "5ecee7fa",
   "metadata": {},
   "source": [
    "## SAVIC-P - CB"
   ]
  },
  {
   "cell_type": "markdown",
   "id": "2b8b1ee5",
   "metadata": {},
   "source": [
    "### load SAVIC-P - CB XGB classifier "
   ]
  },
  {
   "cell_type": "code",
   "execution_count": 5,
   "id": "6d4f6a09",
   "metadata": {},
   "outputs": [],
   "source": [
    "xgbc_sus_cb = xgb.XGBClassifier()\n",
    "xgbc_sus_cb.load_model('Output/ML/models/xgbc_sus_cb.json')"
   ]
  },
  {
   "cell_type": "markdown",
   "id": "8e19909f",
   "metadata": {},
   "source": [
    "### load SAVIC-P - CB processing function"
   ]
  },
  {
   "cell_type": "code",
   "execution_count": 6,
   "id": "ec099e18",
   "metadata": {
    "code_folding": [
     0
    ]
   },
   "outputs": [],
   "source": [
    "def SAVIC_P_CB(df_cb_):\n",
    "    df_cb_pre_SP_ = df_cb_.copy()\n",
    "    df_cb_pre_SP_[['beta_par_core', 'alph_c', 'tau_b', 'alph_b']] = \\\n",
    "    np.log10(df_cb_pre_SP_[['beta_par_core', 'alph_c', 'tau_b', 'alph_b']])\n",
    "    df_cb_pre_SP_['unstable'] = xgbc_sus_cb.predict(df_cb_pre_SP_.values).astype('bool')\n",
    "    \n",
    "    df_cb_post_SP_ = df_cb_pre_SP_.copy()\n",
    "    df_cb_post_SP_[['beta_par_core', 'alph_c', 'tau_b', 'alph_b']] = \\\n",
    "    pow(10., df_cb_post_SP_[['beta_par_core', 'alph_c', 'tau_b', 'alph_b']])\n",
    "    \n",
    "    return df_cb_post_SP_"
   ]
  },
  {
   "cell_type": "markdown",
   "id": "f3d84841",
   "metadata": {},
   "source": [
    "### run SAVIC-P - CB "
   ]
  },
  {
   "cell_type": "code",
   "execution_count": 7,
   "id": "e1ccd634",
   "metadata": {},
   "outputs": [
    {
     "data": {
      "text/html": [
       "<div>\n",
       "<style scoped>\n",
       "    .dataframe tbody tr th:only-of-type {\n",
       "        vertical-align: middle;\n",
       "    }\n",
       "\n",
       "    .dataframe tbody tr th {\n",
       "        vertical-align: top;\n",
       "    }\n",
       "\n",
       "    .dataframe thead th {\n",
       "        text-align: right;\n",
       "    }\n",
       "</style>\n",
       "<table border=\"1\" class=\"dataframe\">\n",
       "  <thead>\n",
       "    <tr style=\"text-align: right;\">\n",
       "      <th></th>\n",
       "      <th>beta_par_core</th>\n",
       "      <th>alph_c</th>\n",
       "      <th>tau_b</th>\n",
       "      <th>alph_b</th>\n",
       "      <th>D_b</th>\n",
       "      <th>vv_b</th>\n",
       "      <th>unstable</th>\n",
       "    </tr>\n",
       "  </thead>\n",
       "  <tbody>\n",
       "    <tr>\n",
       "      <th>0</th>\n",
       "      <td>1.0</td>\n",
       "      <td>1.0</td>\n",
       "      <td>1.0</td>\n",
       "      <td>1.0</td>\n",
       "      <td>0.05</td>\n",
       "      <td>0.5</td>\n",
       "      <td>False</td>\n",
       "    </tr>\n",
       "    <tr>\n",
       "      <th>1</th>\n",
       "      <td>1.5</td>\n",
       "      <td>2.5</td>\n",
       "      <td>0.8</td>\n",
       "      <td>1.0</td>\n",
       "      <td>0.05</td>\n",
       "      <td>0.5</td>\n",
       "      <td>True</td>\n",
       "    </tr>\n",
       "    <tr>\n",
       "      <th>2</th>\n",
       "      <td>0.5</td>\n",
       "      <td>1.0</td>\n",
       "      <td>1.0</td>\n",
       "      <td>3.5</td>\n",
       "      <td>0.10</td>\n",
       "      <td>1.5</td>\n",
       "      <td>True</td>\n",
       "    </tr>\n",
       "    <tr>\n",
       "      <th>3</th>\n",
       "      <td>0.8</td>\n",
       "      <td>1.1</td>\n",
       "      <td>1.0</td>\n",
       "      <td>1.2</td>\n",
       "      <td>0.05</td>\n",
       "      <td>1.8</td>\n",
       "      <td>True</td>\n",
       "    </tr>\n",
       "    <tr>\n",
       "      <th>4</th>\n",
       "      <td>0.5</td>\n",
       "      <td>0.7</td>\n",
       "      <td>0.8</td>\n",
       "      <td>0.8</td>\n",
       "      <td>0.01</td>\n",
       "      <td>0.2</td>\n",
       "      <td>False</td>\n",
       "    </tr>\n",
       "    <tr>\n",
       "      <th>5</th>\n",
       "      <td>0.8</td>\n",
       "      <td>3.1</td>\n",
       "      <td>1.0</td>\n",
       "      <td>3.9</td>\n",
       "      <td>0.10</td>\n",
       "      <td>1.9</td>\n",
       "      <td>True</td>\n",
       "    </tr>\n",
       "  </tbody>\n",
       "</table>\n",
       "</div>"
      ],
      "text/plain": [
       "   beta_par_core  alph_c  tau_b  alph_b   D_b  vv_b  unstable\n",
       "0            1.0     1.0    1.0     1.0  0.05   0.5     False\n",
       "1            1.5     2.5    0.8     1.0  0.05   0.5      True\n",
       "2            0.5     1.0    1.0     3.5  0.10   1.5      True\n",
       "3            0.8     1.1    1.0     1.2  0.05   1.8      True\n",
       "4            0.5     0.7    0.8     0.8  0.01   0.2     False\n",
       "5            0.8     3.1    1.0     3.9  0.10   1.9      True"
      ]
     },
     "execution_count": 7,
     "metadata": {},
     "output_type": "execute_result"
    }
   ],
   "source": [
    "df_cb_post_SP = SAVIC_P_CB(pd.read_hdf('00_SAVIC_Examples/SAVIC_Examples.h5', key = 'SAVIC-P_CB_pre_P'))\n",
    "df_cb_post_SP"
   ]
  },
  {
   "cell_type": "code",
   "execution_count": null,
   "id": "8f7c91b2",
   "metadata": {},
   "outputs": [],
   "source": []
  },
  {
   "cell_type": "markdown",
   "id": "f167696f",
   "metadata": {},
   "source": [
    "## SAVIC-P - core \\& $\\alpha$"
   ]
  },
  {
   "cell_type": "markdown",
   "id": "839ad064",
   "metadata": {},
   "source": [
    "### load SAVIC-P - C$\\alpha$ XGB classifier "
   ]
  },
  {
   "cell_type": "code",
   "execution_count": 8,
   "id": "b28902d0",
   "metadata": {},
   "outputs": [],
   "source": [
    "xgbc_sus_ca = xgb.XGBClassifier()\n",
    "xgbc_sus_ca.load_model('Output/ML/models/xgbc_sus_ca.json')"
   ]
  },
  {
   "cell_type": "markdown",
   "id": "887d20d2",
   "metadata": {},
   "source": [
    "### load SAVIC-P - C$\\alpha$ processing function"
   ]
  },
  {
   "cell_type": "code",
   "execution_count": 9,
   "id": "dd00cd75",
   "metadata": {},
   "outputs": [],
   "source": [
    "def SAVIC_P_CA(df_ca_):\n",
    "    df_ca_pre_SP_ = df_ca_.copy()\n",
    "    df_ca_pre_SP_[['beta_par_core', 'alph_c', 'tau_a', 'alph_a']] = \\\n",
    "    np.log10(df_ca_pre_SP_[['beta_par_core', 'alph_c', 'tau_a', 'alph_a']])\n",
    "    df_ca_pre_SP_['unstable'] = xgbc_sus_ca.predict(df_ca_pre_SP_.values).astype('bool')\n",
    "    \n",
    "    df_ca_post_SP_ = df_ca_pre_SP_.copy()\n",
    "    df_ca_post_SP_[['beta_par_core', 'alph_c', 'tau_a', 'alph_a']] = \\\n",
    "    pow(10., df_ca_post_SP_[['beta_par_core', 'alph_c', 'tau_a', 'alph_a']])\n",
    "    \n",
    "    return df_ca_post_SP_"
   ]
  },
  {
   "cell_type": "code",
   "execution_count": null,
   "id": "50ffe0db",
   "metadata": {},
   "outputs": [],
   "source": []
  },
  {
   "cell_type": "markdown",
   "id": "a210a741",
   "metadata": {},
   "source": [
    "### run SAVIC-P - C$\\alpha$ "
   ]
  },
  {
   "cell_type": "code",
   "execution_count": 10,
   "id": "02273366",
   "metadata": {
    "scrolled": true
   },
   "outputs": [
    {
     "data": {
      "text/html": [
       "<div>\n",
       "<style scoped>\n",
       "    .dataframe tbody tr th:only-of-type {\n",
       "        vertical-align: middle;\n",
       "    }\n",
       "\n",
       "    .dataframe tbody tr th {\n",
       "        vertical-align: top;\n",
       "    }\n",
       "\n",
       "    .dataframe thead th {\n",
       "        text-align: right;\n",
       "    }\n",
       "</style>\n",
       "<table border=\"1\" class=\"dataframe\">\n",
       "  <thead>\n",
       "    <tr style=\"text-align: right;\">\n",
       "      <th></th>\n",
       "      <th>beta_par_core</th>\n",
       "      <th>alph_c</th>\n",
       "      <th>tau_a</th>\n",
       "      <th>alph_a</th>\n",
       "      <th>D_a</th>\n",
       "      <th>vv_a</th>\n",
       "      <th>unstable</th>\n",
       "    </tr>\n",
       "  </thead>\n",
       "  <tbody>\n",
       "    <tr>\n",
       "      <th>0</th>\n",
       "      <td>1.7</td>\n",
       "      <td>0.5</td>\n",
       "      <td>0.5</td>\n",
       "      <td>0.7</td>\n",
       "      <td>0.02</td>\n",
       "      <td>0.07</td>\n",
       "      <td>True</td>\n",
       "    </tr>\n",
       "    <tr>\n",
       "      <th>1</th>\n",
       "      <td>0.6</td>\n",
       "      <td>1.0</td>\n",
       "      <td>0.4</td>\n",
       "      <td>1.9</td>\n",
       "      <td>0.03</td>\n",
       "      <td>0.06</td>\n",
       "      <td>True</td>\n",
       "    </tr>\n",
       "    <tr>\n",
       "      <th>2</th>\n",
       "      <td>0.5</td>\n",
       "      <td>0.7</td>\n",
       "      <td>0.8</td>\n",
       "      <td>0.8</td>\n",
       "      <td>0.01</td>\n",
       "      <td>0.00</td>\n",
       "      <td>False</td>\n",
       "    </tr>\n",
       "    <tr>\n",
       "      <th>3</th>\n",
       "      <td>3.6</td>\n",
       "      <td>0.4</td>\n",
       "      <td>0.6</td>\n",
       "      <td>1.0</td>\n",
       "      <td>0.02</td>\n",
       "      <td>0.15</td>\n",
       "      <td>True</td>\n",
       "    </tr>\n",
       "    <tr>\n",
       "      <th>4</th>\n",
       "      <td>1.0</td>\n",
       "      <td>1.0</td>\n",
       "      <td>0.5</td>\n",
       "      <td>1.2</td>\n",
       "      <td>0.09</td>\n",
       "      <td>0.20</td>\n",
       "      <td>False</td>\n",
       "    </tr>\n",
       "    <tr>\n",
       "      <th>5</th>\n",
       "      <td>0.2</td>\n",
       "      <td>2.4</td>\n",
       "      <td>0.2</td>\n",
       "      <td>0.9</td>\n",
       "      <td>0.03</td>\n",
       "      <td>0.15</td>\n",
       "      <td>True</td>\n",
       "    </tr>\n",
       "  </tbody>\n",
       "</table>\n",
       "</div>"
      ],
      "text/plain": [
       "   beta_par_core  alph_c  tau_a  alph_a   D_a  vv_a  unstable\n",
       "0            1.7     0.5    0.5     0.7  0.02  0.07      True\n",
       "1            0.6     1.0    0.4     1.9  0.03  0.06      True\n",
       "2            0.5     0.7    0.8     0.8  0.01  0.00     False\n",
       "3            3.6     0.4    0.6     1.0  0.02  0.15      True\n",
       "4            1.0     1.0    0.5     1.2  0.09  0.20     False\n",
       "5            0.2     2.4    0.2     0.9  0.03  0.15      True"
      ]
     },
     "execution_count": 10,
     "metadata": {},
     "output_type": "execute_result"
    }
   ],
   "source": [
    "df_ca_post_SP = SAVIC_P_CA(pd.read_hdf('00_SAVIC_Examples/SAVIC_Examples.h5', key = 'SAVIC-P_CA_pre_P'))\n",
    "df_ca_post_SP"
   ]
  },
  {
   "cell_type": "code",
   "execution_count": null,
   "id": "6f0827a2",
   "metadata": {},
   "outputs": [],
   "source": []
  },
  {
   "cell_type": "markdown",
   "id": "2e4030ea",
   "metadata": {},
   "source": [
    "## SAVIC-P - core, beam \\& $\\alpha$"
   ]
  },
  {
   "cell_type": "markdown",
   "id": "b884ee8a",
   "metadata": {},
   "source": [
    "### load SAVIC-P - CB$\\alpha$ XGB classifier "
   ]
  },
  {
   "cell_type": "code",
   "execution_count": 11,
   "id": "b0ae49a0",
   "metadata": {},
   "outputs": [],
   "source": [
    "xgbc_sus_cba = xgb.XGBClassifier()\n",
    "xgbc_sus_cba.load_model('Output/ML/models/xgbc_sus_cba.json')"
   ]
  },
  {
   "cell_type": "code",
   "execution_count": null,
   "id": "a5301a5e",
   "metadata": {},
   "outputs": [],
   "source": []
  },
  {
   "cell_type": "markdown",
   "id": "67bebb85",
   "metadata": {},
   "source": [
    "### load SAVIC-P - CB$\\alpha$ processing function"
   ]
  },
  {
   "cell_type": "code",
   "execution_count": 12,
   "id": "9f0206da",
   "metadata": {},
   "outputs": [],
   "source": [
    "def SAVIC_P_CBA(df_cba_):\n",
    "    df_cba_pre_SP_ = df_cba_.copy()\n",
    "    df_cba_pre_SP_['unstable'] = xgbc_sus_cba.predict(df_cba_pre_SP_.values).astype('bool')\n",
    "    df_cba_post_SP_ = df_cba_pre_SP_.copy()\n",
    "    \n",
    "    return df_cba_post_SP_"
   ]
  },
  {
   "cell_type": "code",
   "execution_count": null,
   "id": "dca6cf51",
   "metadata": {},
   "outputs": [],
   "source": []
  },
  {
   "cell_type": "markdown",
   "id": "3562a42c",
   "metadata": {},
   "source": [
    "### run SAVIC-P - CB$\\alpha$ "
   ]
  },
  {
   "cell_type": "code",
   "execution_count": 13,
   "id": "88fdbfbe",
   "metadata": {
    "scrolled": true
   },
   "outputs": [
    {
     "data": {
      "text/html": [
       "<div>\n",
       "<style scoped>\n",
       "    .dataframe tbody tr th:only-of-type {\n",
       "        vertical-align: middle;\n",
       "    }\n",
       "\n",
       "    .dataframe tbody tr th {\n",
       "        vertical-align: top;\n",
       "    }\n",
       "\n",
       "    .dataframe thead th {\n",
       "        text-align: right;\n",
       "    }\n",
       "</style>\n",
       "<table border=\"1\" class=\"dataframe\">\n",
       "  <thead>\n",
       "    <tr style=\"text-align: right;\">\n",
       "      <th></th>\n",
       "      <th>beta_par_core</th>\n",
       "      <th>alph_c</th>\n",
       "      <th>tau_b</th>\n",
       "      <th>alph_b</th>\n",
       "      <th>D_b</th>\n",
       "      <th>vv_b</th>\n",
       "      <th>tau_a</th>\n",
       "      <th>alph_a</th>\n",
       "      <th>D_a</th>\n",
       "      <th>vv_a</th>\n",
       "      <th>unstable</th>\n",
       "    </tr>\n",
       "  </thead>\n",
       "  <tbody>\n",
       "    <tr>\n",
       "      <th>0</th>\n",
       "      <td>1.7</td>\n",
       "      <td>0.5</td>\n",
       "      <td>1.0</td>\n",
       "      <td>1.0</td>\n",
       "      <td>0.05</td>\n",
       "      <td>0.5</td>\n",
       "      <td>0.5</td>\n",
       "      <td>0.7</td>\n",
       "      <td>0.02</td>\n",
       "      <td>0.07</td>\n",
       "      <td>True</td>\n",
       "    </tr>\n",
       "    <tr>\n",
       "      <th>1</th>\n",
       "      <td>0.6</td>\n",
       "      <td>1.0</td>\n",
       "      <td>0.8</td>\n",
       "      <td>1.0</td>\n",
       "      <td>0.05</td>\n",
       "      <td>0.5</td>\n",
       "      <td>0.4</td>\n",
       "      <td>1.9</td>\n",
       "      <td>0.03</td>\n",
       "      <td>0.06</td>\n",
       "      <td>True</td>\n",
       "    </tr>\n",
       "    <tr>\n",
       "      <th>2</th>\n",
       "      <td>0.5</td>\n",
       "      <td>0.7</td>\n",
       "      <td>1.0</td>\n",
       "      <td>3.5</td>\n",
       "      <td>0.10</td>\n",
       "      <td>1.5</td>\n",
       "      <td>0.8</td>\n",
       "      <td>0.8</td>\n",
       "      <td>0.01</td>\n",
       "      <td>0.00</td>\n",
       "      <td>True</td>\n",
       "    </tr>\n",
       "    <tr>\n",
       "      <th>3</th>\n",
       "      <td>2.2</td>\n",
       "      <td>0.8</td>\n",
       "      <td>1.0</td>\n",
       "      <td>0.7</td>\n",
       "      <td>0.10</td>\n",
       "      <td>0.9</td>\n",
       "      <td>0.6</td>\n",
       "      <td>1.0</td>\n",
       "      <td>0.02</td>\n",
       "      <td>0.15</td>\n",
       "      <td>False</td>\n",
       "    </tr>\n",
       "    <tr>\n",
       "      <th>4</th>\n",
       "      <td>3.6</td>\n",
       "      <td>0.4</td>\n",
       "      <td>1.2</td>\n",
       "      <td>0.7</td>\n",
       "      <td>0.10</td>\n",
       "      <td>0.8</td>\n",
       "      <td>0.6</td>\n",
       "      <td>1.0</td>\n",
       "      <td>0.03</td>\n",
       "      <td>0.13</td>\n",
       "      <td>True</td>\n",
       "    </tr>\n",
       "    <tr>\n",
       "      <th>5</th>\n",
       "      <td>1.0</td>\n",
       "      <td>1.0</td>\n",
       "      <td>1.0</td>\n",
       "      <td>1.2</td>\n",
       "      <td>0.05</td>\n",
       "      <td>1.8</td>\n",
       "      <td>0.5</td>\n",
       "      <td>1.2</td>\n",
       "      <td>0.09</td>\n",
       "      <td>0.20</td>\n",
       "      <td>True</td>\n",
       "    </tr>\n",
       "    <tr>\n",
       "      <th>6</th>\n",
       "      <td>0.2</td>\n",
       "      <td>2.4</td>\n",
       "      <td>1.0</td>\n",
       "      <td>3.1</td>\n",
       "      <td>0.10</td>\n",
       "      <td>1.5</td>\n",
       "      <td>0.2</td>\n",
       "      <td>0.9</td>\n",
       "      <td>0.03</td>\n",
       "      <td>0.15</td>\n",
       "      <td>True</td>\n",
       "    </tr>\n",
       "  </tbody>\n",
       "</table>\n",
       "</div>"
      ],
      "text/plain": [
       "   beta_par_core  alph_c  tau_b  alph_b   D_b  vv_b  tau_a  alph_a   D_a  \\\n",
       "0            1.7     0.5    1.0     1.0  0.05   0.5    0.5     0.7  0.02   \n",
       "1            0.6     1.0    0.8     1.0  0.05   0.5    0.4     1.9  0.03   \n",
       "2            0.5     0.7    1.0     3.5  0.10   1.5    0.8     0.8  0.01   \n",
       "3            2.2     0.8    1.0     0.7  0.10   0.9    0.6     1.0  0.02   \n",
       "4            3.6     0.4    1.2     0.7  0.10   0.8    0.6     1.0  0.03   \n",
       "5            1.0     1.0    1.0     1.2  0.05   1.8    0.5     1.2  0.09   \n",
       "6            0.2     2.4    1.0     3.1  0.10   1.5    0.2     0.9  0.03   \n",
       "\n",
       "   vv_a  unstable  \n",
       "0  0.07      True  \n",
       "1  0.06      True  \n",
       "2  0.00      True  \n",
       "3  0.15     False  \n",
       "4  0.13      True  \n",
       "5  0.20      True  \n",
       "6  0.15      True  "
      ]
     },
     "execution_count": 13,
     "metadata": {},
     "output_type": "execute_result"
    }
   ],
   "source": [
    "df_cba_post_SP = SAVIC_P_CBA(pd.read_hdf('00_SAVIC_Examples/SAVIC_Examples.h5', key = 'SAVIC-P_CBA_pre_P'))\n",
    "df_cba_post_SP"
   ]
  },
  {
   "cell_type": "code",
   "execution_count": null,
   "id": "c3b77690",
   "metadata": {},
   "outputs": [],
   "source": []
  }
 ],
 "metadata": {
  "kernelspec": {
   "display_name": "Python 3 (ipykernel)",
   "language": "python",
   "name": "python3"
  },
  "language_info": {
   "codemirror_mode": {
    "name": "ipython",
    "version": 3
   },
   "file_extension": ".py",
   "mimetype": "text/x-python",
   "name": "python",
   "nbconvert_exporter": "python",
   "pygments_lexer": "ipython3",
   "version": "3.9.13"
  },
  "varInspector": {
   "cols": {
    "lenName": 16,
    "lenType": 16,
    "lenVar": 40
   },
   "kernels_config": {
    "python": {
     "delete_cmd_postfix": "",
     "delete_cmd_prefix": "del ",
     "library": "var_list.py",
     "varRefreshCmd": "print(var_dic_list())"
    },
    "r": {
     "delete_cmd_postfix": ") ",
     "delete_cmd_prefix": "rm(",
     "library": "var_list.r",
     "varRefreshCmd": "cat(var_dic_list()) "
    }
   },
   "types_to_exclude": [
    "module",
    "function",
    "builtin_function_or_method",
    "instance",
    "_Feature"
   ],
   "window_display": false
  }
 },
 "nbformat": 4,
 "nbformat_minor": 5
}
