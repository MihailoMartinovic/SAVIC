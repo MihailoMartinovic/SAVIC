{
 "cells": [
  {
   "cell_type": "code",
   "execution_count": null,
   "id": "4bb1a659",
   "metadata": {},
   "outputs": [],
   "source": [
    "import xgboost as xgb"
   ]
  },
  {
   "cell_type": "markdown",
   "id": "0f38cda0",
   "metadata": {},
   "source": [
    "## SAVIC-P - C"
   ]
  },
  {
   "cell_type": "markdown",
   "id": "1f59318b",
   "metadata": {},
   "source": [
    "### load SAVIC-P - C XGB classifier "
   ]
  },
  {
   "cell_type": "code",
   "execution_count": null,
   "id": "87cef771",
   "metadata": {},
   "outputs": [],
   "source": [
    "xgbc_sus_c = xgb.XGBClassifier()\n",
    "xgbc_sus_c.load_model('Output/ML/models/xgbc_sus_c.json')"
   ]
  },
  {
   "cell_type": "markdown",
   "id": "77ff9933",
   "metadata": {},
   "source": [
    "### load SAVIC-P - C processing function"
   ]
  },
  {
   "cell_type": "code",
   "execution_count": null,
   "id": "afeb1241",
   "metadata": {
    "code_folding": [
     0
    ]
   },
   "outputs": [],
   "source": [
    "def SAVIC_P_C(df_c_):\n",
    "    df_c_pre_SP_ = df_c_.copy()\n",
    "    df_c_pre_SP_ = np.log10(df_c_pre_SP_)\n",
    "    df_c_pre_SP_['unstable'] = xgbc_sus_c.predict(df_c_pre_SP_.values).astype('bool')\n",
    "    \n",
    "    df_c_post_SP_ = df_c_pre_SP_.copy()\n",
    "    df_c_post_SP_[['beta_par_core', 'alph_c']] = pow(10., df_c_post_SP_[['beta_par_core', 'alph_c']])\n",
    "    \n",
    "    return df_c_post_SP_\n",
    "    "
   ]
  },
  {
   "cell_type": "markdown",
   "id": "31e1ffb9",
   "metadata": {},
   "source": [
    "### run SAVIC-P - C "
   ]
  },
  {
   "cell_type": "code",
   "execution_count": null,
   "id": "bbc42a5c",
   "metadata": {
    "scrolled": true
   },
   "outputs": [],
   "source": [
    "df_c_post_SP = SAVIC_P_C(pd.read_hdf('00_SAVIC_Examples/SAVIC_Examples.h5', key = 'SAVIC-P_C_pre_P'))\n",
    "df_c_post_SP"
   ]
  },
  {
   "cell_type": "code",
   "execution_count": null,
   "id": "9b90fa0c",
   "metadata": {},
   "outputs": [],
   "source": []
  },
  {
   "cell_type": "markdown",
   "id": "5ecee7fa",
   "metadata": {},
   "source": [
    "## SAVIC-P - CB"
   ]
  },
  {
   "cell_type": "markdown",
   "id": "2b8b1ee5",
   "metadata": {},
   "source": [
    "### load SAVIC-P - CB XGB classifier "
   ]
  },
  {
   "cell_type": "code",
   "execution_count": null,
   "id": "6d4f6a09",
   "metadata": {},
   "outputs": [],
   "source": [
    "xgbc_sus_cb = xgb.XGBClassifier()\n",
    "xgbc_sus_cb.load_model('Output/ML/models/xgbc_sus_cb.json')"
   ]
  },
  {
   "cell_type": "markdown",
   "id": "8e19909f",
   "metadata": {},
   "source": [
    "### load SAVIC-P - CB processing function"
   ]
  },
  {
   "cell_type": "code",
   "execution_count": null,
   "id": "ec099e18",
   "metadata": {
    "code_folding": []
   },
   "outputs": [],
   "source": [
    "def SAVIC_P_CB(df_cb_):\n",
    "    df_cb_pre_SP_ = df_cb_.copy()\n",
    "    df_cb_pre_SP_[['beta_par_core', 'alph_c', 'tau_b', 'alph_b']] = \\\n",
    "    np.log10(df_cb_pre_SP_[['beta_par_core', 'alph_c', 'tau_b', 'alph_b']])\n",
    "    df_cb_pre_SP_['unstable'] = xgbc_sus_cb.predict(df_cb_pre_SP_.values).astype('bool')\n",
    "    \n",
    "    df_cb_post_SP_ = df_cb_pre_SP_.copy()\n",
    "    df_cb_post_SP_[['beta_par_core', 'alph_c', 'tau_b', 'alph_b']] = \\\n",
    "    pow(10., df_cb_post_SP_[['beta_par_core', 'alph_c', 'tau_b', 'alph_b']])\n",
    "    \n",
    "    return df_cb_post_SP_"
   ]
  },
  {
   "cell_type": "markdown",
   "id": "f3d84841",
   "metadata": {},
   "source": [
    "### run SAVIC-P - CB "
   ]
  },
  {
   "cell_type": "code",
   "execution_count": null,
   "id": "e1ccd634",
   "metadata": {},
   "outputs": [],
   "source": [
    "df_cb_post_SP = SAVIC_P_CB(pd.read_hdf('00_SAVIC_Examples/SAVIC_Examples.h5', key = 'SAVIC-P_CB_pre_P'))\n",
    "df_cb_post_SP"
   ]
  },
  {
   "cell_type": "code",
   "execution_count": null,
   "id": "8f7c91b2",
   "metadata": {},
   "outputs": [],
   "source": []
  },
  {
   "cell_type": "markdown",
   "id": "f167696f",
   "metadata": {},
   "source": [
    "## SAVIC-P - core \\& $\\alpha$"
   ]
  },
  {
   "cell_type": "markdown",
   "id": "839ad064",
   "metadata": {},
   "source": [
    "### load SAVIC-P - C$\\alpha$ XGB classifier "
   ]
  },
  {
   "cell_type": "code",
   "execution_count": null,
   "id": "b28902d0",
   "metadata": {},
   "outputs": [],
   "source": [
    "xgbc_sus_ca = xgb.XGBClassifier()\n",
    "xgbc_sus_ca.load_model('Output/ML/models/xgbc_sus_ca.json')"
   ]
  },
  {
   "cell_type": "markdown",
   "id": "887d20d2",
   "metadata": {},
   "source": [
    "### load SAVIC-P - C$\\alpha$ processing function"
   ]
  },
  {
   "cell_type": "code",
   "execution_count": null,
   "id": "dd00cd75",
   "metadata": {},
   "outputs": [],
   "source": [
    "def SAVIC_P_CA(df_ca_):\n",
    "    df_ca_pre_SP_ = df_ca_.copy()\n",
    "    df_ca_pre_SP_[['beta_par_core', 'alph_c', 'tau_a', 'alph_a']] = \\\n",
    "    np.log10(df_ca_pre_SP_[['beta_par_core', 'alph_c', 'tau_a', 'alph_a']])\n",
    "    df_ca_pre_SP_['unstable'] = xgbc_sus_ca.predict(df_ca_pre_SP_.values).astype('bool')\n",
    "    \n",
    "    df_ca_post_SP_ = df_ca_pre_SP_.copy()\n",
    "    df_ca_post_SP_[['beta_par_core', 'alph_c', 'tau_a', 'alph_a']] = \\\n",
    "    pow(10., df_ca_post_SP_[['beta_par_core', 'alph_c', 'tau_a', 'alph_a']])\n",
    "    \n",
    "    return df_ca_post_SP_"
   ]
  },
  {
   "cell_type": "code",
   "execution_count": null,
   "id": "50ffe0db",
   "metadata": {},
   "outputs": [],
   "source": []
  },
  {
   "cell_type": "markdown",
   "id": "a210a741",
   "metadata": {},
   "source": [
    "### run SAVIC-P - C$\\alpha$ "
   ]
  },
  {
   "cell_type": "code",
   "execution_count": null,
   "id": "02273366",
   "metadata": {
    "scrolled": true
   },
   "outputs": [],
   "source": [
    "df_ca_post_SP = SAVIC_P_CA(pd.read_hdf('00_SAVIC_Examples/SAVIC_Examples.h5', key = 'SAVIC-P_CA_pre_P'))\n",
    "df_ca_post_SP"
   ]
  },
  {
   "cell_type": "code",
   "execution_count": null,
   "id": "6f0827a2",
   "metadata": {},
   "outputs": [],
   "source": []
  },
  {
   "cell_type": "markdown",
   "id": "2e4030ea",
   "metadata": {},
   "source": [
    "## SAVIC-P - core, beam \\& $\\alpha$"
   ]
  },
  {
   "cell_type": "markdown",
   "id": "b884ee8a",
   "metadata": {},
   "source": [
    "### load SAVIC-P - CB$\\alpha$ XGB classifier "
   ]
  },
  {
   "cell_type": "code",
   "execution_count": null,
   "id": "b0ae49a0",
   "metadata": {},
   "outputs": [],
   "source": [
    "xgbc_sus_cba = xgb.XGBClassifier()\n",
    "xgbc_sus_cba.load_model('Output/ML/models/xgbc_sus_cba.json')"
   ]
  },
  {
   "cell_type": "code",
   "execution_count": null,
   "id": "a5301a5e",
   "metadata": {},
   "outputs": [],
   "source": []
  },
  {
   "cell_type": "markdown",
   "id": "67bebb85",
   "metadata": {},
   "source": [
    "### load SAVIC-P - CB$\\alpha$ processing function"
   ]
  },
  {
   "cell_type": "code",
   "execution_count": null,
   "id": "9f0206da",
   "metadata": {},
   "outputs": [],
   "source": [
    "def SAVIC_P_CBA(df_cba_):\n",
    "    df_cba_pre_SP_ = df_cba_.copy()\n",
    "    df_cba_pre_SP_['unstable'] = xgbc_sus_cba.predict(df_cba_pre_SP_.values).astype('bool')\n",
    "    df_cba_post_SP_ = df_cba_pre_SP_.copy()\n",
    "    \n",
    "    return df_cba_post_SP_"
   ]
  },
  {
   "cell_type": "code",
   "execution_count": null,
   "id": "dca6cf51",
   "metadata": {},
   "outputs": [],
   "source": []
  },
  {
   "cell_type": "markdown",
   "id": "3562a42c",
   "metadata": {},
   "source": [
    "### run SAVIC-P - CB$\\alpha$ "
   ]
  },
  {
   "cell_type": "code",
   "execution_count": null,
   "id": "88fdbfbe",
   "metadata": {
    "scrolled": true
   },
   "outputs": [],
   "source": [
    "df_cba_post_SP = SAVIC_P_CBA(pd.read_hdf('00_SAVIC_Examples/SAVIC_Examples.h5', key = 'SAVIC-P_CBA_pre_P'))\n",
    "df_cba_post_SP"
   ]
  },
  {
   "cell_type": "code",
   "execution_count": null,
   "id": "c3b77690",
   "metadata": {},
   "outputs": [],
   "source": []
  }
 ],
 "metadata": {
  "kernelspec": {
   "display_name": "Python 3 (ipykernel)",
   "language": "python",
   "name": "python3"
  },
  "language_info": {
   "codemirror_mode": {
    "name": "ipython",
    "version": 3
   },
   "file_extension": ".py",
   "mimetype": "text/x-python",
   "name": "python",
   "nbconvert_exporter": "python",
   "pygments_lexer": "ipython3",
   "version": "3.9.16"
  },
  "varInspector": {
   "cols": {
    "lenName": 16,
    "lenType": 16,
    "lenVar": 40
   },
   "kernels_config": {
    "python": {
     "delete_cmd_postfix": "",
     "delete_cmd_prefix": "del ",
     "library": "var_list.py",
     "varRefreshCmd": "print(var_dic_list())"
    },
    "r": {
     "delete_cmd_postfix": ") ",
     "delete_cmd_prefix": "rm(",
     "library": "var_list.r",
     "varRefreshCmd": "cat(var_dic_list()) "
    }
   },
   "types_to_exclude": [
    "module",
    "function",
    "builtin_function_or_method",
    "instance",
    "_Feature"
   ],
   "window_display": false
  }
 },
 "nbformat": 4,
 "nbformat_minor": 5
}
