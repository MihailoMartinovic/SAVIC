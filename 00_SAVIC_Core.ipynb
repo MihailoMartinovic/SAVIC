{
 "cells": [
  {
   "cell_type": "code",
   "execution_count": null,
   "id": "aa994568",
   "metadata": {},
   "outputs": [],
   "source": [
    "import xgboost as xgb\n",
    "from sklearn.mixture import GaussianMixture"
   ]
  },
  {
   "cell_type": "markdown",
   "id": "90e7b28b",
   "metadata": {},
   "source": [
    "## load trained algorithms"
   ]
  },
  {
   "cell_type": "markdown",
   "id": "1f59318b",
   "metadata": {},
   "source": [
    "### load SAVIC-P - C XGB classifier "
   ]
  },
  {
   "cell_type": "code",
   "execution_count": null,
   "id": "87cef771",
   "metadata": {},
   "outputs": [],
   "source": [
    "xgbc_sus_c = xgb.XGBClassifier()\n",
    "xgbc_sus_c.load_model('Output/ML/models/xgbc_sus_c.json')"
   ]
  },
  {
   "cell_type": "markdown",
   "id": "d3323d80",
   "metadata": {},
   "source": [
    "### load SAVIC-Q - C XGB regressor"
   ]
  },
  {
   "cell_type": "code",
   "execution_count": null,
   "id": "d31ecc24",
   "metadata": {},
   "outputs": [],
   "source": [
    "xgbr_c1_c = xgb.XGBRegressor()\n",
    "xgbr_c1_c.load_model('Output/ML/models/xgbr_c.json')"
   ]
  },
  {
   "cell_type": "markdown",
   "id": "7b6dcaa2",
   "metadata": {},
   "source": [
    "### load SAVIC-C - C GM Classifier"
   ]
  },
  {
   "cell_type": "code",
   "execution_count": null,
   "id": "28957be6",
   "metadata": {},
   "outputs": [],
   "source": [
    "gmm_c_name = 'Output/ML/models/GMM_C/GMM_C'\n",
    "\n",
    "# reload\n",
    "means = np.load(gmm_c_name + '_means.npy')\n",
    "covar = np.load(gmm_c_name + '_covariances.npy')\n",
    "gmm_c = GaussianMixture(n_components = len(means), covariance_type='full')\n",
    "gmm_c.precisions_cholesky_ = np.linalg.cholesky(np.linalg.inv(covar))\n",
    "gmm_c.weights_ = np.load(gmm_c_name + '_weights.npy')\n",
    "gmm_c.means_ = means\n",
    "gmm_c.covariances_ = covar\n",
    "\n"
   ]
  },
  {
   "cell_type": "markdown",
   "id": "0f38cda0",
   "metadata": {},
   "source": [
    "## SAVIC-P - C"
   ]
  },
  {
   "cell_type": "markdown",
   "id": "77ff9933",
   "metadata": {},
   "source": [
    "### load SAVIC-P - C processing function"
   ]
  },
  {
   "cell_type": "code",
   "execution_count": null,
   "id": "afeb1241",
   "metadata": {
    "code_folding": [
     0
    ]
   },
   "outputs": [],
   "source": [
    "def SAVIC_P_C(df_c_):\n",
    "    df_c_pre_SP_ = df_c_.copy()\n",
    "    df_c_pre_SP_ = np.log10(df_c_pre_SP_)\n",
    "    df_c_pre_SP_['unstable'] = xgbc_sus_c.predict(df_c_pre_SP_.values).astype('bool')\n",
    "    \n",
    "    df_c_post_SP_ = df_c_pre_SP_.copy()\n",
    "    df_c_post_SP_[['beta_par_core', 'alph_c']] = pow(10., df_c_post_SP_[['beta_par_core', 'alph_c']])\n",
    "    \n",
    "    return df_c_post_SP_\n",
    "    "
   ]
  },
  {
   "cell_type": "markdown",
   "id": "31e1ffb9",
   "metadata": {},
   "source": [
    "### run SAVIC-P - C "
   ]
  },
  {
   "cell_type": "code",
   "execution_count": null,
   "id": "bbc42a5c",
   "metadata": {},
   "outputs": [],
   "source": [
    "df_c_post_SP = SAVIC_P_C(pd.read_hdf('00_SAVIC_Examples/SAVIC_Examples.h5', key = 'SAVIC-P_C_pre_P'))\n",
    "df_c_post_SP"
   ]
  },
  {
   "cell_type": "code",
   "execution_count": null,
   "id": "9b90fa0c",
   "metadata": {},
   "outputs": [],
   "source": []
  },
  {
   "cell_type": "markdown",
   "id": "cd9955f8",
   "metadata": {},
   "source": [
    "## SAVIC-Q - C"
   ]
  },
  {
   "cell_type": "markdown",
   "id": "7ed345c3",
   "metadata": {},
   "source": [
    "### load SAVIC-Q - C processing function"
   ]
  },
  {
   "cell_type": "code",
   "execution_count": null,
   "id": "93dacf0d",
   "metadata": {
    "code_folding": []
   },
   "outputs": [],
   "source": [
    "def SAVIC_Q_C(df_c_):\n",
    "    \n",
    "    df_c_uns_ = df_c_[df_c_['unstable']].drop(columns = ['unstable'])\n",
    "    \n",
    "    df_c_uns_pre_SQ_ = df_c_uns_.copy()\n",
    "    df_c_uns_pre_SQ_ = np.log10(df_c_uns_pre_SQ_)\n",
    "    df_c_uns_pre_SQ_.columns = [['log_beta_par_core', 'log_alph_c']]\n",
    "    \n",
    "    df_c_uns_pre_SQ_[['log_Pc', 'log_theta_kB']] = xgbr_c1_c.predict(df_c_uns_pre_SQ_.values)\n",
    "    \n",
    "    df_c_uns_post_SQ_ = pow(10., df_c_uns_pre_SQ_)\n",
    "    df_c_uns_post_SQ_.columns = ['beta_par_core', 'alph_c', 'Pow_core', 'kB_angle']\n",
    "    \n",
    "    df_c_post_SQ_ = df_c_.copy()\n",
    "    df_c_post_SQ_[['Pow_core', 'kB_angle']] = np.nan\n",
    "    df_c_post_SQ_.loc[df_c_uns_post_SQ_.index, ['Pow_core', 'kB_angle']] = df_c_uns_post_SQ_[['Pow_core', 'kB_angle']]\n",
    "    \n",
    "    return df_c_post_SQ_\n",
    "    "
   ]
  },
  {
   "cell_type": "markdown",
   "id": "b61db18d",
   "metadata": {},
   "source": [
    "### run SAVIC-Q - C "
   ]
  },
  {
   "cell_type": "code",
   "execution_count": null,
   "id": "90a338b1",
   "metadata": {
    "scrolled": false
   },
   "outputs": [],
   "source": [
    "df_c_post_SQ = SAVIC_Q_C(df_c_post_SP)\n",
    "df_c_post_SQ"
   ]
  },
  {
   "cell_type": "code",
   "execution_count": null,
   "id": "21bc5afd",
   "metadata": {},
   "outputs": [],
   "source": []
  },
  {
   "cell_type": "markdown",
   "id": "e435bcbf",
   "metadata": {},
   "source": [
    "## SAVIC-C - C"
   ]
  },
  {
   "cell_type": "markdown",
   "id": "7b788d00",
   "metadata": {},
   "source": [
    "### load SAVIC-C - C processing function"
   ]
  },
  {
   "cell_type": "code",
   "execution_count": null,
   "id": "08f80f5c",
   "metadata": {
    "code_folding": []
   },
   "outputs": [],
   "source": [
    "def SAVIC_C_C(df_c_):\n",
    "    \n",
    "    df_c_uns_ = df_c_[df_c_['unstable']].drop(columns = ['unstable'])\n",
    "    df_c_uns_.drop(columns = ['Pow_core'], inplace = True)\n",
    "    \n",
    "    df_c_uns_pre_SC_ = df_c_uns_.copy()\n",
    "    df_c_uns_pre_SC_['uns_IC'] = (1. + 0.367 / ( df_c_uns_pre_SC_['beta_par_core'] - 0.011 )**0.364) < df_c_uns_pre_SC_['alph_c']\n",
    "    df_c_uns_pre_SC_['uns_Mirror'] = (1. + 0.702 / ( df_c_uns_pre_SC_['beta_par_core'] + 0.009 )**0.674) < df_c_uns_pre_SC_['alph_c']\n",
    "    df_c_uns_pre_SC_['uns_FM'] = (1. - 0.408 / ( df_c_uns_pre_SC_['beta_par_core'] - 0.410 )**0.529) > df_c_uns_pre_SC_['alph_c']\n",
    "    df_c_uns_pre_SC_['uns_OFH'] = (1. - 1.454 / ( df_c_uns_pre_SC_['beta_par_core'] + 0.178 )**1.023) > df_c_uns_pre_SC_['alph_c']\n",
    "    df_c_uns_pre_SC_['uns_core'] = df_c_uns_pre_SC_['uns_OFH'] | df_c_uns_pre_SC_['uns_FM'] | df_c_uns_pre_SC_['uns_Mirror'] | df_c_uns_pre_SC_['uns_IC']\n",
    "    df_c_uns_pre_SC_.drop(columns = ['uns_Mirror'], inplace = True)\n",
    "    \n",
    "    df_c_uns_pre_SC_[['beta_par_core', 'alph_c']] = np.log10(df_c_uns_pre_SC_[['beta_par_core', 'alph_c']])\n",
    "    df_c_uns_pre_SC_.rename(columns={\"beta_par_core\": \"log_beta_par_core\", \"alph_c\": \"log_alph_c\"}, inplace = True)\n",
    "    \n",
    "    df_c_uns_post_SC_ = df_c_uns_pre_SC_.copy()\n",
    "    df_c_uns_post_SC_['cluster'] = gmm_c.predict(df_c_uns_pre_SC_[['log_beta_par_core', 'log_alph_c', 'kB_angle', \\\n",
    "                                                                   'uns_IC', 'uns_FM', 'uns_OFH', 'uns_core']].values)\n",
    "    \n",
    "    df_c_uns_post_SC_[['log_beta_par_core', 'log_alph_c']] = \\\n",
    "    pow(10., df_c_uns_post_SC_[['log_beta_par_core', 'log_alph_c']])\n",
    "    df_c_uns_post_SC_.rename(columns={\"log_beta_par_core\": \"beta_par_core\", \"log_alph_c\": \"alph_c\"}, inplace = True)\n",
    "    \n",
    "    df_c_uns_post_SC_['ins_type'] = np.nan\n",
    "    ins_types = ['Ion Cyclotron', 'Parallel Firehose', 'Mirror', 'Oblique Firehose']\n",
    "    for cluster, ins_type in zip(np.arange(4), ins_types):\n",
    "        df_c_uns_post_SC_['ins_type'][df_c_uns_post_SC_['cluster'] == cluster] = ins_type\n",
    "    \n",
    "    df_c_post_SC_ = df_c_.copy()\n",
    "    df_c_post_SC_['ins_type'] = np.nan\n",
    "    df_c_post_SC_.loc[df_c_uns_post_SC_.index, ['ins_type']] = df_c_uns_post_SC_['ins_type']\n",
    "    \n",
    "    return df_c_post_SC_\n",
    "    "
   ]
  },
  {
   "cell_type": "markdown",
   "id": "8046d222",
   "metadata": {},
   "source": [
    "### run SAVIC-C - C "
   ]
  },
  {
   "cell_type": "code",
   "execution_count": null,
   "id": "a6176ecf",
   "metadata": {
    "scrolled": true
   },
   "outputs": [],
   "source": [
    "df_c_post_SC = SAVIC_C_C(df_c_post_SQ)\n",
    "df_c_post_SC"
   ]
  },
  {
   "cell_type": "code",
   "execution_count": null,
   "id": "33ab9619",
   "metadata": {},
   "outputs": [],
   "source": []
  },
  {
   "cell_type": "markdown",
   "id": "23f12cc0",
   "metadata": {},
   "source": [
    "## SAVIC - C"
   ]
  },
  {
   "cell_type": "markdown",
   "id": "e4c679a0",
   "metadata": {},
   "source": [
    "### load SAVIC - C processing function"
   ]
  },
  {
   "cell_type": "code",
   "execution_count": null,
   "id": "703d1e8b",
   "metadata": {
    "code_folding": []
   },
   "outputs": [],
   "source": [
    "def SAVIC_Core(df_c_):\n",
    "    \n",
    "    df_c_post_SP_ = SAVIC_P_C(df_c_)\n",
    "    df_c_post_SQ_ = SAVIC_Q_C(df_c_post_SP_)\n",
    "    df_c_post_SC_ = SAVIC_C_C(df_c_post_SQ_)\n",
    "    \n",
    "    return df_c_post_SC_"
   ]
  },
  {
   "cell_type": "markdown",
   "id": "1430b97e",
   "metadata": {},
   "source": [
    "### run SAVIC - C "
   ]
  },
  {
   "cell_type": "code",
   "execution_count": null,
   "id": "a9c4f62f",
   "metadata": {},
   "outputs": [],
   "source": [
    "df_c_post_SC = SAVIC_Core(pd.read_hdf('00_SAVIC_Examples/SAVIC_Examples.h5', key = 'SAVIC-P_C_pre_P'))\n",
    "df_c_post_SC"
   ]
  },
  {
   "cell_type": "code",
   "execution_count": null,
   "id": "abf889f4",
   "metadata": {},
   "outputs": [],
   "source": []
  }
 ],
 "metadata": {
  "kernelspec": {
   "display_name": "Python 3 (ipykernel)",
   "language": "python",
   "name": "python3"
  },
  "language_info": {
   "codemirror_mode": {
    "name": "ipython",
    "version": 3
   },
   "file_extension": ".py",
   "mimetype": "text/x-python",
   "name": "python",
   "nbconvert_exporter": "python",
   "pygments_lexer": "ipython3",
   "version": "3.9.16"
  },
  "varInspector": {
   "cols": {
    "lenName": 16,
    "lenType": 16,
    "lenVar": 40
   },
   "kernels_config": {
    "python": {
     "delete_cmd_postfix": "",
     "delete_cmd_prefix": "del ",
     "library": "var_list.py",
     "varRefreshCmd": "print(var_dic_list())"
    },
    "r": {
     "delete_cmd_postfix": ") ",
     "delete_cmd_prefix": "rm(",
     "library": "var_list.r",
     "varRefreshCmd": "cat(var_dic_list()) "
    }
   },
   "types_to_exclude": [
    "module",
    "function",
    "builtin_function_or_method",
    "instance",
    "_Feature"
   ],
   "window_display": false
  }
 },
 "nbformat": 4,
 "nbformat_minor": 5
}
