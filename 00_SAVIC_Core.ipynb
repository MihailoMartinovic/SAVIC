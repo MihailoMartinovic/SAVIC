{
 "cells": [
  {
   "cell_type": "code",
   "execution_count": 1,
   "id": "aa994568",
   "metadata": {},
   "outputs": [],
   "source": [
    "import xgboost as xgb\n",
    "from sklearn.mixture import GaussianMixture"
   ]
  },
  {
   "cell_type": "markdown",
   "id": "90e7b28b",
   "metadata": {},
   "source": [
    "## load trained algorithms"
   ]
  },
  {
   "cell_type": "markdown",
   "id": "1f59318b",
   "metadata": {},
   "source": [
    "### load SAVIC-P - C XGB classifier "
   ]
  },
  {
   "cell_type": "code",
   "execution_count": 2,
   "id": "87cef771",
   "metadata": {},
   "outputs": [],
   "source": [
    "xgbc_sus_c = xgb.XGBClassifier()\n",
    "xgbc_sus_c.load_model('Output/ML/models/xgbc_sus_c.json')"
   ]
  },
  {
   "cell_type": "markdown",
   "id": "d3323d80",
   "metadata": {},
   "source": [
    "### load SAVIC-Q - C XGB regressor"
   ]
  },
  {
   "cell_type": "code",
   "execution_count": 3,
   "id": "d31ecc24",
   "metadata": {},
   "outputs": [],
   "source": [
    "xgbr_c1_c = xgb.XGBRegressor()\n",
    "xgbr_c1_c.load_model('Output/ML/models/xgbr_c.json')"
   ]
  },
  {
   "cell_type": "markdown",
   "id": "7b6dcaa2",
   "metadata": {},
   "source": [
    "### load SAVIC-C - C GM Classifier"
   ]
  },
  {
   "cell_type": "code",
   "execution_count": 4,
   "id": "28957be6",
   "metadata": {},
   "outputs": [],
   "source": [
    "gmm_c_name = 'Output/ML/models/GMM_C/GMM_C'\n",
    "\n",
    "# reload\n",
    "means = np.load(gmm_c_name + '_means.npy')\n",
    "covar = np.load(gmm_c_name + '_covariances.npy')\n",
    "gmm_c = GaussianMixture(n_components = len(means), covariance_type='full')\n",
    "gmm_c.precisions_cholesky_ = np.linalg.cholesky(np.linalg.inv(covar))\n",
    "gmm_c.weights_ = np.load(gmm_c_name + '_weights.npy')\n",
    "gmm_c.means_ = means\n",
    "gmm_c.covariances_ = covar\n",
    "\n"
   ]
  },
  {
   "cell_type": "markdown",
   "id": "0f38cda0",
   "metadata": {},
   "source": [
    "## SAVIC-P - C"
   ]
  },
  {
   "cell_type": "markdown",
   "id": "77ff9933",
   "metadata": {},
   "source": [
    "### load SAVIC-P - C processing function"
   ]
  },
  {
   "cell_type": "code",
   "execution_count": 5,
   "id": "afeb1241",
   "metadata": {
    "code_folding": [
     0
    ]
   },
   "outputs": [],
   "source": [
    "def SAVIC_P_C(df_c_):\n",
    "    df_c_pre_SP_ = df_c_.copy()\n",
    "    df_c_pre_SP_ = np.log10(df_c_pre_SP_)\n",
    "    df_c_pre_SP_['unstable'] = xgbc_sus_c.predict(df_c_pre_SP_.values).astype('bool')\n",
    "    \n",
    "    df_c_post_SP_ = df_c_pre_SP_.copy()\n",
    "    df_c_post_SP_[['beta_par_core', 'alph_c']] = pow(10., df_c_post_SP_[['beta_par_core', 'alph_c']])\n",
    "    \n",
    "    return df_c_post_SP_\n",
    "    "
   ]
  },
  {
   "cell_type": "markdown",
   "id": "31e1ffb9",
   "metadata": {},
   "source": [
    "### run SAVIC-P - C "
   ]
  },
  {
   "cell_type": "code",
   "execution_count": 6,
   "id": "bbc42a5c",
   "metadata": {},
   "outputs": [
    {
     "data": {
      "text/html": [
       "<div>\n",
       "<style scoped>\n",
       "    .dataframe tbody tr th:only-of-type {\n",
       "        vertical-align: middle;\n",
       "    }\n",
       "\n",
       "    .dataframe tbody tr th {\n",
       "        vertical-align: top;\n",
       "    }\n",
       "\n",
       "    .dataframe thead th {\n",
       "        text-align: right;\n",
       "    }\n",
       "</style>\n",
       "<table border=\"1\" class=\"dataframe\">\n",
       "  <thead>\n",
       "    <tr style=\"text-align: right;\">\n",
       "      <th></th>\n",
       "      <th>beta_par_core</th>\n",
       "      <th>alph_c</th>\n",
       "      <th>unstable</th>\n",
       "    </tr>\n",
       "  </thead>\n",
       "  <tbody>\n",
       "    <tr>\n",
       "      <th>0</th>\n",
       "      <td>1.0</td>\n",
       "      <td>1.0</td>\n",
       "      <td>False</td>\n",
       "    </tr>\n",
       "    <tr>\n",
       "      <th>1</th>\n",
       "      <td>0.5</td>\n",
       "      <td>3.2</td>\n",
       "      <td>True</td>\n",
       "    </tr>\n",
       "    <tr>\n",
       "      <th>2</th>\n",
       "      <td>1.0</td>\n",
       "      <td>0.4</td>\n",
       "      <td>True</td>\n",
       "    </tr>\n",
       "    <tr>\n",
       "      <th>3</th>\n",
       "      <td>12.0</td>\n",
       "      <td>1.2</td>\n",
       "      <td>True</td>\n",
       "    </tr>\n",
       "  </tbody>\n",
       "</table>\n",
       "</div>"
      ],
      "text/plain": [
       "   beta_par_core  alph_c  unstable\n",
       "0            1.0     1.0     False\n",
       "1            0.5     3.2      True\n",
       "2            1.0     0.4      True\n",
       "3           12.0     1.2      True"
      ]
     },
     "execution_count": 6,
     "metadata": {},
     "output_type": "execute_result"
    }
   ],
   "source": [
    "df_c_post_SP = SAVIC_P_C(pd.read_hdf('00_SAVIC_Examples/SAVIC_Examples.h5', key = 'SAVIC-P_C_pre_P'))\n",
    "df_c_post_SP"
   ]
  },
  {
   "cell_type": "code",
   "execution_count": null,
   "id": "9b90fa0c",
   "metadata": {},
   "outputs": [],
   "source": []
  },
  {
   "cell_type": "markdown",
   "id": "cd9955f8",
   "metadata": {},
   "source": [
    "## SAVIC-Q - C"
   ]
  },
  {
   "cell_type": "markdown",
   "id": "7ed345c3",
   "metadata": {},
   "source": [
    "### load SAVIC-Q - C processing function"
   ]
  },
  {
   "cell_type": "code",
   "execution_count": 7,
   "id": "93dacf0d",
   "metadata": {
    "code_folding": [
     0
    ]
   },
   "outputs": [],
   "source": [
    "def SAVIC_Q_C(df_c_):\n",
    "    \n",
    "    df_c_uns_ = df_c_[df_c_['unstable']].drop(columns = ['unstable'])\n",
    "    \n",
    "    df_c_uns_pre_SQ_ = df_c_uns_.copy()\n",
    "    df_c_uns_pre_SQ_ = np.log10(df_c_uns_pre_SQ_)\n",
    "    df_c_uns_pre_SQ_.columns = [['log_beta_par_core', 'log_alph_c']]\n",
    "    \n",
    "    df_c_uns_pre_SQ_[['log_Pc', 'log_theta_kB']] = xgbr_c1_c.predict(df_c_uns_pre_SQ_.values)\n",
    "    \n",
    "    df_c_uns_post_SQ_ = pow(10., df_c_uns_pre_SQ_)\n",
    "    df_c_uns_post_SQ_.columns = ['beta_par_core', 'alph_c', 'Pc', 'theta_kB']\n",
    "    \n",
    "    df_c_post_SQ_ = df_c_.copy()\n",
    "    df_c_post_SQ_[['Pc', 'theta_kB']] = np.nan\n",
    "    df_c_post_SQ_.loc[df_c_uns_post_SQ_.index, ['Pc', 'theta_kB']] = df_c_uns_post_SQ_[['Pc', 'theta_kB']]\n",
    "    \n",
    "    return df_c_post_SQ_\n",
    "    "
   ]
  },
  {
   "cell_type": "markdown",
   "id": "b61db18d",
   "metadata": {},
   "source": [
    "### run SAVIC-Q - C "
   ]
  },
  {
   "cell_type": "code",
   "execution_count": 8,
   "id": "90a338b1",
   "metadata": {
    "scrolled": false
   },
   "outputs": [
    {
     "data": {
      "text/html": [
       "<div>\n",
       "<style scoped>\n",
       "    .dataframe tbody tr th:only-of-type {\n",
       "        vertical-align: middle;\n",
       "    }\n",
       "\n",
       "    .dataframe tbody tr th {\n",
       "        vertical-align: top;\n",
       "    }\n",
       "\n",
       "    .dataframe thead th {\n",
       "        text-align: right;\n",
       "    }\n",
       "</style>\n",
       "<table border=\"1\" class=\"dataframe\">\n",
       "  <thead>\n",
       "    <tr style=\"text-align: right;\">\n",
       "      <th></th>\n",
       "      <th>beta_par_core</th>\n",
       "      <th>alph_c</th>\n",
       "      <th>unstable</th>\n",
       "      <th>Pc</th>\n",
       "      <th>theta_kB</th>\n",
       "    </tr>\n",
       "  </thead>\n",
       "  <tbody>\n",
       "    <tr>\n",
       "      <th>0</th>\n",
       "      <td>1.0</td>\n",
       "      <td>1.0</td>\n",
       "      <td>False</td>\n",
       "      <td>NaN</td>\n",
       "      <td>NaN</td>\n",
       "    </tr>\n",
       "    <tr>\n",
       "      <th>1</th>\n",
       "      <td>0.5</td>\n",
       "      <td>3.2</td>\n",
       "      <td>True</td>\n",
       "      <td>0.171887</td>\n",
       "      <td>0.001113</td>\n",
       "    </tr>\n",
       "    <tr>\n",
       "      <th>2</th>\n",
       "      <td>1.0</td>\n",
       "      <td>0.4</td>\n",
       "      <td>True</td>\n",
       "      <td>0.000287</td>\n",
       "      <td>0.002231</td>\n",
       "    </tr>\n",
       "    <tr>\n",
       "      <th>3</th>\n",
       "      <td>12.0</td>\n",
       "      <td>1.2</td>\n",
       "      <td>True</td>\n",
       "      <td>0.001800</td>\n",
       "      <td>0.001649</td>\n",
       "    </tr>\n",
       "  </tbody>\n",
       "</table>\n",
       "</div>"
      ],
      "text/plain": [
       "   beta_par_core  alph_c  unstable        Pc  theta_kB\n",
       "0            1.0     1.0     False       NaN       NaN\n",
       "1            0.5     3.2      True  0.171887  0.001113\n",
       "2            1.0     0.4      True  0.000287  0.002231\n",
       "3           12.0     1.2      True  0.001800  0.001649"
      ]
     },
     "execution_count": 8,
     "metadata": {},
     "output_type": "execute_result"
    }
   ],
   "source": [
    "df_c_post_SQ = SAVIC_Q_C(df_c_post_SP)\n",
    "df_c_post_SQ"
   ]
  },
  {
   "cell_type": "code",
   "execution_count": null,
   "id": "21bc5afd",
   "metadata": {},
   "outputs": [],
   "source": []
  },
  {
   "cell_type": "markdown",
   "id": "e435bcbf",
   "metadata": {},
   "source": [
    "## SAVIC-C - C"
   ]
  },
  {
   "cell_type": "markdown",
   "id": "7b788d00",
   "metadata": {},
   "source": [
    "### load SAVIC-C - C processing function"
   ]
  },
  {
   "cell_type": "code",
   "execution_count": 9,
   "id": "08f80f5c",
   "metadata": {
    "code_folding": [
     0
    ]
   },
   "outputs": [],
   "source": [
    "def SAVIC_C_C(df_c_):\n",
    "    \n",
    "    df_c_uns_ = df_c_[df_c_['unstable']].drop(columns = ['unstable'])\n",
    "    df_c_uns_.drop(columns = ['Pc'], inplace = True)\n",
    "    \n",
    "    df_c_uns_pre_SC_ = df_c_uns_.copy()\n",
    "    df_c_uns_pre_SC_['uns_IC'] = (1. + 0.367 / ( df_c_uns_pre_SC_['beta_par_core'] - 0.011 )**0.364) < df_c_uns_pre_SC_['alph_c']\n",
    "    df_c_uns_pre_SC_['uns_Mirror'] = (1. + 0.702 / ( df_c_uns_pre_SC_['beta_par_core'] + 0.009 )**0.674) < df_c_uns_pre_SC_['alph_c']\n",
    "    df_c_uns_pre_SC_['uns_FM'] = (1. - 0.408 / ( df_c_uns_pre_SC_['beta_par_core'] - 0.410 )**0.529) > df_c_uns_pre_SC_['alph_c']\n",
    "    df_c_uns_pre_SC_['uns_OFH'] = (1. - 1.454 / ( df_c_uns_pre_SC_['beta_par_core'] + 0.178 )**1.023) > df_c_uns_pre_SC_['alph_c']\n",
    "    df_c_uns_pre_SC_['uns_core'] = df_c_uns_pre_SC_['uns_OFH'] | df_c_uns_pre_SC_['uns_FM'] | df_c_uns_pre_SC_['uns_Mirror'] | df_c_uns_pre_SC_['uns_IC']\n",
    "    df_c_uns_pre_SC_.drop(columns = ['uns_Mirror'], inplace = True)\n",
    "    \n",
    "    df_c_uns_pre_SC_[['beta_par_core', 'alph_c']] = np.log10(df_c_uns_pre_SC_[['beta_par_core', 'alph_c']])\n",
    "    df_c_uns_pre_SC_.rename(columns={\"beta_par_core\": \"log_beta_par_core\", \"alph_c\": \"log_alph_c\"}, inplace = True)\n",
    "    \n",
    "    df_c_uns_post_SC_ = df_c_uns_pre_SC_.copy()\n",
    "    df_c_uns_post_SC_['cluster'] = gmm_c.predict(df_c_uns_pre_SC_[['log_beta_par_core', 'log_alph_c', 'theta_kB', \\\n",
    "                                                                   'uns_IC', 'uns_FM', 'uns_OFH', 'uns_core']].values)\n",
    "    \n",
    "    df_c_uns_post_SC_[['log_beta_par_core', 'log_alph_c']] = \\\n",
    "    pow(10., df_c_uns_post_SC_[['log_beta_par_core', 'log_alph_c']])\n",
    "    df_c_uns_post_SC_.rename(columns={\"log_beta_par_core\": \"beta_par_core\", \"log_alph_c\": \"alph_c\"}, inplace = True)\n",
    "    \n",
    "    df_c_uns_post_SC_['ins_type'] = np.nan\n",
    "    ins_types = ['Ion Cyclotron', 'Parallel Firehose', 'Mirror', 'Oblique Firehose']\n",
    "    for cluster, ins_type in zip(np.arange(4), ins_types):\n",
    "        df_c_uns_post_SC_['ins_type'][df_c_uns_post_SC_['cluster'] == cluster] = ins_type\n",
    "    \n",
    "    df_c_post_SC_ = df_c_.copy()\n",
    "    df_c_post_SC_['ins_type'] = np.nan\n",
    "    df_c_post_SC_.loc[df_c_uns_post_SC_.index, ['ins_type']] = df_c_uns_post_SC_['ins_type']\n",
    "    \n",
    "    return df_c_post_SC_\n",
    "    "
   ]
  },
  {
   "cell_type": "markdown",
   "id": "8046d222",
   "metadata": {},
   "source": [
    "### run SAVIC-C - C "
   ]
  },
  {
   "cell_type": "code",
   "execution_count": 10,
   "id": "a6176ecf",
   "metadata": {
    "scrolled": true
   },
   "outputs": [
    {
     "data": {
      "text/html": [
       "<div>\n",
       "<style scoped>\n",
       "    .dataframe tbody tr th:only-of-type {\n",
       "        vertical-align: middle;\n",
       "    }\n",
       "\n",
       "    .dataframe tbody tr th {\n",
       "        vertical-align: top;\n",
       "    }\n",
       "\n",
       "    .dataframe thead th {\n",
       "        text-align: right;\n",
       "    }\n",
       "</style>\n",
       "<table border=\"1\" class=\"dataframe\">\n",
       "  <thead>\n",
       "    <tr style=\"text-align: right;\">\n",
       "      <th></th>\n",
       "      <th>beta_par_core</th>\n",
       "      <th>alph_c</th>\n",
       "      <th>unstable</th>\n",
       "      <th>Pc</th>\n",
       "      <th>theta_kB</th>\n",
       "      <th>ins_type</th>\n",
       "    </tr>\n",
       "  </thead>\n",
       "  <tbody>\n",
       "    <tr>\n",
       "      <th>0</th>\n",
       "      <td>1.0</td>\n",
       "      <td>1.0</td>\n",
       "      <td>False</td>\n",
       "      <td>NaN</td>\n",
       "      <td>NaN</td>\n",
       "      <td>NaN</td>\n",
       "    </tr>\n",
       "    <tr>\n",
       "      <th>1</th>\n",
       "      <td>0.5</td>\n",
       "      <td>3.2</td>\n",
       "      <td>True</td>\n",
       "      <td>0.171887</td>\n",
       "      <td>0.001113</td>\n",
       "      <td>Ion Cyclotron</td>\n",
       "    </tr>\n",
       "    <tr>\n",
       "      <th>2</th>\n",
       "      <td>1.0</td>\n",
       "      <td>0.4</td>\n",
       "      <td>True</td>\n",
       "      <td>0.000287</td>\n",
       "      <td>0.002231</td>\n",
       "      <td>Parallel Firehose</td>\n",
       "    </tr>\n",
       "    <tr>\n",
       "      <th>3</th>\n",
       "      <td>12.0</td>\n",
       "      <td>1.2</td>\n",
       "      <td>True</td>\n",
       "      <td>0.001800</td>\n",
       "      <td>0.001649</td>\n",
       "      <td>Ion Cyclotron</td>\n",
       "    </tr>\n",
       "  </tbody>\n",
       "</table>\n",
       "</div>"
      ],
      "text/plain": [
       "   beta_par_core  alph_c  unstable        Pc  theta_kB           ins_type\n",
       "0            1.0     1.0     False       NaN       NaN                NaN\n",
       "1            0.5     3.2      True  0.171887  0.001113      Ion Cyclotron\n",
       "2            1.0     0.4      True  0.000287  0.002231  Parallel Firehose\n",
       "3           12.0     1.2      True  0.001800  0.001649      Ion Cyclotron"
      ]
     },
     "execution_count": 10,
     "metadata": {},
     "output_type": "execute_result"
    }
   ],
   "source": [
    "df_c_post_SC = SAVIC_C_C(df_c_post_SQ)\n",
    "df_c_post_SC"
   ]
  },
  {
   "cell_type": "code",
   "execution_count": null,
   "id": "33ab9619",
   "metadata": {},
   "outputs": [],
   "source": []
  },
  {
   "cell_type": "markdown",
   "id": "23f12cc0",
   "metadata": {},
   "source": [
    "## SAVIC - C"
   ]
  },
  {
   "cell_type": "markdown",
   "id": "e4c679a0",
   "metadata": {},
   "source": [
    "### load SAVIC - C processing function"
   ]
  },
  {
   "cell_type": "code",
   "execution_count": 11,
   "id": "703d1e8b",
   "metadata": {
    "code_folding": [
     0
    ]
   },
   "outputs": [],
   "source": [
    "def SAVIC_Core(df_c_):\n",
    "    \n",
    "    df_c_post_SP_ = SAVIC_P_C(df_c_)\n",
    "    df_c_post_SQ_ = SAVIC_Q_C(df_c_post_SP_)\n",
    "    df_c_post_SC_ = SAVIC_C_C(df_c_post_SQ_)\n",
    "    \n",
    "    return df_c_post_SC_"
   ]
  },
  {
   "cell_type": "markdown",
   "id": "1430b97e",
   "metadata": {},
   "source": [
    "### run SAVIC - C "
   ]
  },
  {
   "cell_type": "code",
   "execution_count": 12,
   "id": "a9c4f62f",
   "metadata": {},
   "outputs": [
    {
     "data": {
      "text/html": [
       "<div>\n",
       "<style scoped>\n",
       "    .dataframe tbody tr th:only-of-type {\n",
       "        vertical-align: middle;\n",
       "    }\n",
       "\n",
       "    .dataframe tbody tr th {\n",
       "        vertical-align: top;\n",
       "    }\n",
       "\n",
       "    .dataframe thead th {\n",
       "        text-align: right;\n",
       "    }\n",
       "</style>\n",
       "<table border=\"1\" class=\"dataframe\">\n",
       "  <thead>\n",
       "    <tr style=\"text-align: right;\">\n",
       "      <th></th>\n",
       "      <th>beta_par_core</th>\n",
       "      <th>alph_c</th>\n",
       "      <th>unstable</th>\n",
       "      <th>Pc</th>\n",
       "      <th>theta_kB</th>\n",
       "      <th>ins_type</th>\n",
       "    </tr>\n",
       "  </thead>\n",
       "  <tbody>\n",
       "    <tr>\n",
       "      <th>0</th>\n",
       "      <td>1.0</td>\n",
       "      <td>1.0</td>\n",
       "      <td>False</td>\n",
       "      <td>NaN</td>\n",
       "      <td>NaN</td>\n",
       "      <td>NaN</td>\n",
       "    </tr>\n",
       "    <tr>\n",
       "      <th>1</th>\n",
       "      <td>0.5</td>\n",
       "      <td>3.2</td>\n",
       "      <td>True</td>\n",
       "      <td>0.171887</td>\n",
       "      <td>0.001113</td>\n",
       "      <td>Ion Cyclotron</td>\n",
       "    </tr>\n",
       "    <tr>\n",
       "      <th>2</th>\n",
       "      <td>1.0</td>\n",
       "      <td>0.4</td>\n",
       "      <td>True</td>\n",
       "      <td>0.000287</td>\n",
       "      <td>0.002231</td>\n",
       "      <td>Parallel Firehose</td>\n",
       "    </tr>\n",
       "    <tr>\n",
       "      <th>3</th>\n",
       "      <td>12.0</td>\n",
       "      <td>1.2</td>\n",
       "      <td>True</td>\n",
       "      <td>0.001800</td>\n",
       "      <td>0.001649</td>\n",
       "      <td>Ion Cyclotron</td>\n",
       "    </tr>\n",
       "  </tbody>\n",
       "</table>\n",
       "</div>"
      ],
      "text/plain": [
       "   beta_par_core  alph_c  unstable        Pc  theta_kB           ins_type\n",
       "0            1.0     1.0     False       NaN       NaN                NaN\n",
       "1            0.5     3.2      True  0.171887  0.001113      Ion Cyclotron\n",
       "2            1.0     0.4      True  0.000287  0.002231  Parallel Firehose\n",
       "3           12.0     1.2      True  0.001800  0.001649      Ion Cyclotron"
      ]
     },
     "execution_count": 12,
     "metadata": {},
     "output_type": "execute_result"
    }
   ],
   "source": [
    "df_c_post_SC = SAVIC_Core(pd.read_hdf('00_SAVIC_Examples/SAVIC_Examples.h5', key = 'SAVIC-P_C_pre_P'))\n",
    "df_c_post_SC"
   ]
  },
  {
   "cell_type": "code",
   "execution_count": null,
   "id": "abf889f4",
   "metadata": {},
   "outputs": [],
   "source": []
  }
 ],
 "metadata": {
  "kernelspec": {
   "display_name": "Python 3 (ipykernel)",
   "language": "python",
   "name": "python3"
  },
  "language_info": {
   "codemirror_mode": {
    "name": "ipython",
    "version": 3
   },
   "file_extension": ".py",
   "mimetype": "text/x-python",
   "name": "python",
   "nbconvert_exporter": "python",
   "pygments_lexer": "ipython3",
   "version": "3.9.13"
  },
  "varInspector": {
   "cols": {
    "lenName": 16,
    "lenType": 16,
    "lenVar": 40
   },
   "kernels_config": {
    "python": {
     "delete_cmd_postfix": "",
     "delete_cmd_prefix": "del ",
     "library": "var_list.py",
     "varRefreshCmd": "print(var_dic_list())"
    },
    "r": {
     "delete_cmd_postfix": ") ",
     "delete_cmd_prefix": "rm(",
     "library": "var_list.r",
     "varRefreshCmd": "cat(var_dic_list()) "
    }
   },
   "types_to_exclude": [
    "module",
    "function",
    "builtin_function_or_method",
    "instance",
    "_Feature"
   ],
   "window_display": false
  }
 },
 "nbformat": 4,
 "nbformat_minor": 5
}
