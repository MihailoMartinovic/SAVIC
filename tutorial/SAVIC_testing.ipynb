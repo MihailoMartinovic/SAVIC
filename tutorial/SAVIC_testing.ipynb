{
 "cells": [
  {
   "cell_type": "code",
   "execution_count": null,
   "id": "04462dd8",
   "metadata": {},
   "outputs": [],
   "source": [
    "import pandas as pd\n",
    "import numpy as np"
   ]
  },
  {
   "cell_type": "code",
   "execution_count": 1,
   "id": "5b2d15a2",
   "metadata": {},
   "outputs": [],
   "source": [
    "import savic"
   ]
  },
  {
   "cell_type": "code",
   "execution_count": 2,
   "id": "6db7db9d",
   "metadata": {},
   "outputs": [],
   "source": [
    "from savic import tutorial"
   ]
  },
  {
   "cell_type": "code",
   "execution_count": 3,
   "id": "44bc1281",
   "metadata": {},
   "outputs": [
    {
     "data": {
      "text/plain": [
       "'C:\\\\Users\\\\mmartinovic\\\\anaconda3\\\\lib\\\\site-packages\\\\savic/tutorial/SAVIC_Examples.h5'"
      ]
     },
     "execution_count": 3,
     "metadata": {},
     "output_type": "execute_result"
    }
   ],
   "source": [
    "tutorial.tutorial_path()"
   ]
  },
  {
   "cell_type": "code",
   "execution_count": 4,
   "id": "0eb3555a",
   "metadata": {},
   "outputs": [
    {
     "data": {
      "text/plain": [
       "'C:\\\\Users\\\\mmartinovic\\\\anaconda3\\\\lib\\\\site-packages\\\\savic/tutorial/SAVIC_readme.pdf'"
      ]
     },
     "execution_count": 4,
     "metadata": {},
     "output_type": "execute_result"
    }
   ],
   "source": [
    "tutorial.readme_path()"
   ]
  },
  {
   "cell_type": "code",
   "execution_count": 5,
   "id": "4f12ec9f",
   "metadata": {},
   "outputs": [
    {
     "data": {
      "text/plain": [
       "'C:\\\\Users\\\\mmartinovic\\\\anaconda3\\\\lib\\\\site-packages\\\\savic/tutorial/SAVIC_testing.ipynb'"
      ]
     },
     "execution_count": 5,
     "metadata": {},
     "output_type": "execute_result"
    }
   ],
   "source": [
    "tutorial.test_path()"
   ]
  },
  {
   "cell_type": "code",
   "execution_count": 6,
   "id": "49297ff7",
   "metadata": {},
   "outputs": [
    {
     "data": {
      "text/plain": [
       "['C:\\\\Users\\\\mmartinovic\\\\anaconda3\\\\lib\\\\site-packages\\\\savic/tutorial/Article_I_Statistical_Trends.pdf',\n",
       " 'C:\\\\Users\\\\mmartinovic\\\\anaconda3\\\\lib\\\\site-packages\\\\savic/tutorial/Article_II_Classification_and_Multidimensional_Mapping.pdf']"
      ]
     },
     "execution_count": 6,
     "metadata": {},
     "output_type": "execute_result"
    }
   ],
   "source": [
    "tutorial.article_path()"
   ]
  },
  {
   "cell_type": "code",
   "execution_count": null,
   "id": "c2e4973e",
   "metadata": {},
   "outputs": [],
   "source": []
  },
  {
   "cell_type": "code",
   "execution_count": null,
   "id": "531e0b6c",
   "metadata": {},
   "outputs": [],
   "source": [
    "from savic import SAVIC_P_C\n",
    "from savic import SAVIC_Q_C\n",
    "from savic import SAVIC_C_C"
   ]
  },
  {
   "cell_type": "code",
   "execution_count": null,
   "id": "17fc596b",
   "metadata": {},
   "outputs": [],
   "source": [
    "path = tutorial.tutorial_path()\n",
    "df_c_post_SP = SAVIC_P_C.SAVIC_P_C(pd.read_hdf(path, key = 'SAVIC-P_C_pre_P'))\n",
    "df_c_post_SP"
   ]
  },
  {
   "cell_type": "code",
   "execution_count": null,
   "id": "62704982",
   "metadata": {},
   "outputs": [],
   "source": [
    "df_c_post_SQ = SAVIC_Q_C.SAVIC_Q_C(pd.read_hdf(path, key = 'SAVIC-P_C_post_P'))\n",
    "df_c_post_SQ"
   ]
  },
  {
   "cell_type": "code",
   "execution_count": null,
   "id": "4cf78529",
   "metadata": {},
   "outputs": [],
   "source": [
    "df_c_uns_post_SC = SAVIC_C_C.SAVIC_C_C(pd.read_hdf(path, key = 'SAVIC-Q_C_post_Q'))\n",
    "df_c_uns_post_SC"
   ]
  },
  {
   "cell_type": "code",
   "execution_count": null,
   "id": "9c1b907a",
   "metadata": {},
   "outputs": [],
   "source": []
  },
  {
   "cell_type": "code",
   "execution_count": null,
   "id": "3bf2d156",
   "metadata": {},
   "outputs": [],
   "source": [
    "from savic import SAVIC_P_CB\n",
    "from savic import SAVIC_Q_CB\n",
    "from savic import SAVIC_C_CB"
   ]
  },
  {
   "cell_type": "code",
   "execution_count": null,
   "id": "2f0d879a",
   "metadata": {},
   "outputs": [],
   "source": [
    "df_cb_post_SP = SAVIC_P_CB.SAVIC_P_CB(pd.read_hdf(path, key = 'SAVIC-P_CB_pre_P'))\n",
    "df_cb_post_SP"
   ]
  },
  {
   "cell_type": "code",
   "execution_count": null,
   "id": "a9559a1c",
   "metadata": {},
   "outputs": [],
   "source": [
    "df_cb_post_SQ = SAVIC_Q_CB.SAVIC_Q_CB(pd.read_hdf(path, key = 'SAVIC-P_CB_post_P'))\n",
    "df_cb_post_SQ"
   ]
  },
  {
   "cell_type": "code",
   "execution_count": null,
   "id": "133e0831",
   "metadata": {
    "scrolled": true
   },
   "outputs": [],
   "source": [
    "df_cb_post_SC = SAVIC_C_CB.SAVIC_C_CB(pd.read_hdf(path, key = 'SAVIC-Q_CB_post_Q'))\n",
    "df_cb_post_SC"
   ]
  },
  {
   "cell_type": "code",
   "execution_count": null,
   "id": "79b39912",
   "metadata": {},
   "outputs": [],
   "source": []
  },
  {
   "cell_type": "code",
   "execution_count": null,
   "id": "f5040ebe",
   "metadata": {},
   "outputs": [],
   "source": [
    "from savic import SAVIC_P_CA\n",
    "from savic import SAVIC_Q_CA\n",
    "from savic import SAVIC_C_CA"
   ]
  },
  {
   "cell_type": "code",
   "execution_count": null,
   "id": "0e630d25",
   "metadata": {},
   "outputs": [],
   "source": [
    "df_ca_post_SP = SAVIC_P_CA.SAVIC_P_CA(pd.read_hdf(path, key = 'SAVIC-P_CA_pre_P'))\n",
    "df_ca_post_SP"
   ]
  },
  {
   "cell_type": "code",
   "execution_count": null,
   "id": "822b511b",
   "metadata": {},
   "outputs": [],
   "source": [
    "df_ca_post_SQ = SAVIC_Q_CA.SAVIC_Q_CA(pd.read_hdf(path, key = 'SAVIC-P_CA_post_P'))\n",
    "df_ca_post_SQ"
   ]
  },
  {
   "cell_type": "code",
   "execution_count": null,
   "id": "4474f292",
   "metadata": {},
   "outputs": [],
   "source": [
    "df_ca_post_SP = SAVIC_C_CA.SAVIC_C_CA(pd.read_hdf(path, key = 'SAVIC-Q_CA_post_Q'))\n",
    "df_ca_post_SP"
   ]
  },
  {
   "cell_type": "code",
   "execution_count": null,
   "id": "95e706ec",
   "metadata": {},
   "outputs": [],
   "source": []
  },
  {
   "cell_type": "code",
   "execution_count": null,
   "id": "071a97f2",
   "metadata": {},
   "outputs": [],
   "source": [
    "from savic import SAVIC_P_CBA\n",
    "from savic import SAVIC_Q_CBA\n",
    "from savic import SAVIC_C_CBA"
   ]
  },
  {
   "cell_type": "code",
   "execution_count": null,
   "id": "4bd840b9",
   "metadata": {},
   "outputs": [],
   "source": [
    "df_cba_post_SP = SAVIC_P_CBA.SAVIC_P_CBA(pd.read_hdf(path, key = 'SAVIC-P_CBA_pre_P'))\n",
    "df_cba_post_SP"
   ]
  },
  {
   "cell_type": "code",
   "execution_count": null,
   "id": "bab589e9",
   "metadata": {},
   "outputs": [],
   "source": [
    "df_cba_post_SQ = SAVIC_Q_CBA.SAVIC_Q_CBA(pd.read_hdf(path, key = 'SAVIC-P_CBA_post_P'))\n",
    "df_cba_post_SQ"
   ]
  },
  {
   "cell_type": "code",
   "execution_count": null,
   "id": "8fb65474",
   "metadata": {},
   "outputs": [],
   "source": [
    "df_cba_post_SC = SAVIC_C_CBA.SAVIC_C_CBA(pd.read_hdf(path, key = 'SAVIC-Q_CBA_post_Q'))\n",
    "df_cba_post_SC"
   ]
  },
  {
   "cell_type": "code",
   "execution_count": null,
   "id": "6f723467",
   "metadata": {},
   "outputs": [],
   "source": []
  },
  {
   "cell_type": "code",
   "execution_count": null,
   "id": "85285caa",
   "metadata": {},
   "outputs": [],
   "source": [
    "from savic import SAVIC_Core\n",
    "from savic import SAVIC_CoreBeam\n",
    "from savic import SAVIC_CoreAlpha\n",
    "from savic import SAVIC_CoreBeamAlpha"
   ]
  },
  {
   "cell_type": "code",
   "execution_count": null,
   "id": "242c4869",
   "metadata": {},
   "outputs": [],
   "source": [
    "path = tutorial.tutorial_path()\n",
    "df_c_post_SC = SAVIC_Core.SAVIC_Core(pd.read_hdf(path, key = 'SAVIC-P_C_pre_P'))\n",
    "df_c_post_SC"
   ]
  },
  {
   "cell_type": "code",
   "execution_count": null,
   "id": "14aedac3",
   "metadata": {},
   "outputs": [],
   "source": [
    "path = tutorial.tutorial_path()\n",
    "df_cb_post_SC = SAVIC_CoreBeam.SAVIC_CoreBeam(pd.read_hdf(path, key = 'SAVIC-P_CB_pre_P'))\n",
    "df_cb_post_SC"
   ]
  },
  {
   "cell_type": "code",
   "execution_count": null,
   "id": "363533a1",
   "metadata": {},
   "outputs": [],
   "source": [
    "path = tutorial.tutorial_path()\n",
    "df_ca_post_SC = SAVIC_CoreAlpha.SAVIC_CoreAlpha(pd.read_hdf(path, key = 'SAVIC-P_CA_pre_P'))\n",
    "df_ca_post_SC"
   ]
  },
  {
   "cell_type": "code",
   "execution_count": null,
   "id": "fe8a76a9",
   "metadata": {},
   "outputs": [],
   "source": [
    "path = tutorial.tutorial_path()\n",
    "df_cba_post_SC = SAVIC_CoreBeamAlpha.SAVIC_CoreBeamAlpha(pd.read_hdf(path, key = 'SAVIC-P_CBA_pre_P'))\n",
    "df_cba_post_SC"
   ]
  },
  {
   "cell_type": "code",
   "execution_count": null,
   "id": "d709ee30",
   "metadata": {},
   "outputs": [],
   "source": []
  },
  {
   "cell_type": "code",
   "execution_count": null,
   "id": "644c16eb",
   "metadata": {},
   "outputs": [],
   "source": [
    "from savic import SAVIC"
   ]
  },
  {
   "cell_type": "code",
   "execution_count": null,
   "id": "0b41e954",
   "metadata": {},
   "outputs": [],
   "source": [
    "path = tutorial.tutorial_path()\n",
    "df_load = pd.read_hdf(path, key = 'SAVIC_Sample_Input')\n",
    "SAVIC_df = SAVIC.SAVIC(df_load)"
   ]
  },
  {
   "cell_type": "code",
   "execution_count": null,
   "id": "62bdcfab",
   "metadata": {},
   "outputs": [],
   "source": [
    "SAVIC_df"
   ]
  },
  {
   "cell_type": "code",
   "execution_count": null,
   "id": "4ed691fa",
   "metadata": {},
   "outputs": [],
   "source": []
  }
 ],
 "metadata": {
  "kernelspec": {
   "display_name": "Python 3 (ipykernel)",
   "language": "python",
   "name": "python3"
  },
  "language_info": {
   "codemirror_mode": {
    "name": "ipython",
    "version": 3
   },
   "file_extension": ".py",
   "mimetype": "text/x-python",
   "name": "python",
   "nbconvert_exporter": "python",
   "pygments_lexer": "ipython3",
   "version": "3.9.16"
  },
  "varInspector": {
   "cols": {
    "lenName": 16,
    "lenType": 16,
    "lenVar": 40
   },
   "kernels_config": {
    "python": {
     "delete_cmd_postfix": "",
     "delete_cmd_prefix": "del ",
     "library": "var_list.py",
     "varRefreshCmd": "print(var_dic_list())"
    },
    "r": {
     "delete_cmd_postfix": ") ",
     "delete_cmd_prefix": "rm(",
     "library": "var_list.r",
     "varRefreshCmd": "cat(var_dic_list()) "
    }
   },
   "types_to_exclude": [
    "module",
    "function",
    "builtin_function_or_method",
    "instance",
    "_Feature"
   ],
   "window_display": false
  }
 },
 "nbformat": 4,
 "nbformat_minor": 5
}
