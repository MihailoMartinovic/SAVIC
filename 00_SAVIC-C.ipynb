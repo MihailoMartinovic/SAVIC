{
 "cells": [
  {
   "cell_type": "code",
   "execution_count": null,
   "id": "4bb1a659",
   "metadata": {},
   "outputs": [],
   "source": [
    "from sklearn.mixture import GaussianMixture"
   ]
  },
  {
   "cell_type": "markdown",
   "id": "0f38cda0",
   "metadata": {},
   "source": [
    "## SAVIC-C - C"
   ]
  },
  {
   "cell_type": "markdown",
   "id": "1f59318b",
   "metadata": {},
   "source": [
    "### load SAVIC-C - C GM Classifier"
   ]
  },
  {
   "cell_type": "code",
   "execution_count": null,
   "id": "87cef771",
   "metadata": {},
   "outputs": [],
   "source": [
    "gmm_c_name = 'Output/ML/models/GMM_C/GMM_C'\n",
    "\n",
    "# reload\n",
    "means = np.load(gmm_c_name + '_means.npy')\n",
    "covar = np.load(gmm_c_name + '_covariances.npy')\n",
    "gmm_c = GaussianMixture(n_components = len(means), covariance_type='full')\n",
    "gmm_c.precisions_cholesky_ = np.linalg.cholesky(np.linalg.inv(covar))\n",
    "gmm_c.weights_ = np.load(gmm_c_name + '_weights.npy')\n",
    "gmm_c.means_ = means\n",
    "gmm_c.covariances_ = covar\n",
    "\n"
   ]
  },
  {
   "cell_type": "markdown",
   "id": "77ff9933",
   "metadata": {},
   "source": [
    "### load SAVIC-C - C processing function"
   ]
  },
  {
   "cell_type": "code",
   "execution_count": null,
   "id": "afeb1241",
   "metadata": {
    "code_folding": []
   },
   "outputs": [],
   "source": [
    "def SAVIC_C_C(df_c_):\n",
    "    \n",
    "    df_c_uns_ = df_c_[df_c_['unstable']].drop(columns = ['unstable'])\n",
    "    df_c_uns_.drop(columns = ['Pow_core'], inplace = True)\n",
    "    \n",
    "    df_c_uns_pre_SC_ = df_c_uns_.copy()\n",
    "    df_c_uns_pre_SC_['uns_IC'] = (1. + 0.367 / ( df_c_uns_pre_SC_['beta_par_core'] - 0.011 )**0.364) < df_c_uns_pre_SC_['alph_c']\n",
    "    df_c_uns_pre_SC_['uns_Mirror'] = (1. + 0.702 / ( df_c_uns_pre_SC_['beta_par_core'] + 0.009 )**0.674) < df_c_uns_pre_SC_['alph_c']\n",
    "    df_c_uns_pre_SC_['uns_FM'] = (1. - 0.408 / ( df_c_uns_pre_SC_['beta_par_core'] - 0.410 )**0.529) > df_c_uns_pre_SC_['alph_c']\n",
    "    df_c_uns_pre_SC_['uns_OFH'] = (1. - 1.454 / ( df_c_uns_pre_SC_['beta_par_core'] + 0.178 )**1.023) > df_c_uns_pre_SC_['alph_c']\n",
    "    df_c_uns_pre_SC_['uns_core'] = df_c_uns_pre_SC_['uns_OFH'] | df_c_uns_pre_SC_['uns_FM'] | df_c_uns_pre_SC_['uns_Mirror'] | df_c_uns_pre_SC_['uns_IC']\n",
    "    df_c_uns_pre_SC_.drop(columns = ['uns_Mirror'], inplace = True)\n",
    "    \n",
    "    df_c_uns_pre_SC_[['beta_par_core', 'alph_c']] = np.log10(df_c_uns_pre_SC_[['beta_par_core', 'alph_c']])\n",
    "    df_c_uns_pre_SC_.rename(columns={\"beta_par_core\": \"log_beta_par_core\", \"alph_c\": \"log_alph_c\"}, inplace = True)\n",
    "    \n",
    "    df_c_uns_post_SC_ = df_c_uns_pre_SC_.copy()\n",
    "    df_c_uns_post_SC_['cluster'] = gmm_c.predict(df_c_uns_pre_SC_[['log_beta_par_core', 'log_alph_c', 'kB_angle', \\\n",
    "                                                                   'uns_IC', 'uns_FM', 'uns_OFH', 'uns_core']].values)\n",
    "    \n",
    "    df_c_uns_post_SC_[['log_beta_par_core', 'log_alph_c']] = \\\n",
    "    pow(10., df_c_uns_post_SC_[['log_beta_par_core', 'log_alph_c']])\n",
    "    df_c_uns_post_SC_.rename(columns={\"log_beta_par_core\": \"beta_par_core\", \"log_alph_c\": \"alph_c\"}, inplace = True)\n",
    "    \n",
    "    df_c_uns_post_SC_['ins_type'] = np.nan\n",
    "    ins_types = ['Ion Cyclotron', 'Parallel Firehose', 'Mirror', 'Oblique Firehose']\n",
    "    for cluster, ins_type in zip(np.arange(4), ins_types):\n",
    "        df_c_uns_post_SC_['ins_type'][df_c_uns_post_SC_['cluster'] == cluster] = ins_type\n",
    "    \n",
    "    df_c_post_SC_ = df_c_.copy()\n",
    "    df_c_post_SC_['ins_type'] = np.nan\n",
    "    df_c_post_SC_.loc[df_c_uns_post_SC_.index, ['ins_type']] = df_c_uns_post_SC_['ins_type']\n",
    "    \n",
    "    return df_c_post_SC_\n",
    "    "
   ]
  },
  {
   "cell_type": "markdown",
   "id": "31e1ffb9",
   "metadata": {},
   "source": [
    "### run SAVIC-C - C "
   ]
  },
  {
   "cell_type": "code",
   "execution_count": null,
   "id": "bbc42a5c",
   "metadata": {
    "scrolled": true
   },
   "outputs": [],
   "source": [
    "df_c_uns_post_SC = SAVIC_C_C(pd.read_hdf('00_SAVIC_Examples/SAVIC_Examples.h5', key = 'SAVIC-Q_C_post_Q'))\n",
    "df_c_uns_post_SC"
   ]
  },
  {
   "cell_type": "code",
   "execution_count": null,
   "id": "7e17f5e3",
   "metadata": {},
   "outputs": [],
   "source": []
  },
  {
   "cell_type": "markdown",
   "id": "5ecee7fa",
   "metadata": {},
   "source": [
    "## SAVIC-C - CB"
   ]
  },
  {
   "cell_type": "markdown",
   "id": "2b8b1ee5",
   "metadata": {},
   "source": [
    "### load SAVIC-C - CB GM Classifier"
   ]
  },
  {
   "cell_type": "code",
   "execution_count": null,
   "id": "6d4f6a09",
   "metadata": {},
   "outputs": [],
   "source": [
    "gmm_cb_name = 'Output/ML/models/GMM_CB/GMM_CB'\n",
    "means = np.load(gmm_cb_name + '_means.npy')\n",
    "covar = np.load(gmm_cb_name + '_covariances.npy')\n",
    "gmm_cb = GaussianMixture(n_components = len(means), covariance_type='full')\n",
    "gmm_cb.precisions_cholesky_ = np.linalg.cholesky(np.linalg.inv(covar))\n",
    "gmm_cb.weights_ = np.load(gmm_cb_name + '_weights.npy')\n",
    "gmm_cb.means_ = means\n",
    "gmm_cb.covariances_ = covar\n"
   ]
  },
  {
   "cell_type": "code",
   "execution_count": null,
   "id": "1e2f7010",
   "metadata": {},
   "outputs": [],
   "source": []
  },
  {
   "cell_type": "markdown",
   "id": "8e19909f",
   "metadata": {},
   "source": [
    "### load SAVIC-C - CB processing function"
   ]
  },
  {
   "cell_type": "code",
   "execution_count": null,
   "id": "ec099e18",
   "metadata": {
    "code_folding": [
     0
    ]
   },
   "outputs": [],
   "source": [
    "def SAVIC_C_CB(df_cb_):\n",
    "    \n",
    "    df_cb_uns_ = df_cb_[df_cb_['unstable']].drop(columns = ['unstable'])\n",
    "    df_cb_uns_pre_SC_ = df_cb_uns_.copy()\n",
    "\n",
    "    df_cb_uns_pre_SC_['uns_IC'] = (1. + 0.367 / ( df_cb_uns_pre_SC_['beta_par_core'] - 0.011 )**0.364) < df_cb_uns_pre_SC_['alph_c']\n",
    "    df_cb_uns_pre_SC_['uns_Mirror'] = (1. + 0.702 / ( df_cb_uns_pre_SC_['beta_par_core'] + 0.009 )**0.674) < df_cb_uns_pre_SC_['alph_c']\n",
    "    df_cb_uns_pre_SC_['uns_FM'] = (1. - 0.408 / ( df_cb_uns_pre_SC_['beta_par_core'] - 0.410 )**0.529) > df_cb_uns_pre_SC_['alph_c']\n",
    "    df_cb_uns_pre_SC_['uns_OFH'] = (1. - 1.454 / ( df_cb_uns_pre_SC_['beta_par_core'] + 0.178 )**1.023) > df_cb_uns_pre_SC_['alph_c']\n",
    "    df_cb_uns_pre_SC_['uns_core'] = df_cb_uns_pre_SC_['uns_OFH'] | df_cb_uns_pre_SC_['uns_FM'] | df_cb_uns_pre_SC_['uns_Mirror'] | df_cb_uns_pre_SC_['uns_IC']\n",
    "\n",
    "    df_cb_uns_pre_SC_['beta_par_beam'] = df_cb_uns_pre_SC_['beta_par_core'] * df_cb_uns_pre_SC_['D_b'] / df_cb_uns_pre_SC_['tau_b']\n",
    "    df_cb_uns_pre_SC_['lambda_FH_beta'] = ( (df_cb_uns_pre_SC_['beta_par_core'] + df_cb_uns_pre_SC_['beta_par_beam']) - \\\n",
    "    (df_cb_uns_pre_SC_['beta_par_core'] * df_cb_uns_pre_SC_['alph_c'] + df_cb_uns_pre_SC_['beta_par_beam'] * df_cb_uns_pre_SC_['alph_b']) ) / 2.\n",
    "    df_cb_uns_pre_SC_['lambda_FH_beam'] = df_cb_uns_pre_SC_['D_b'] * df_cb_uns_pre_SC_['vv_b']**2.\n",
    "    df_cb_uns_pre_SC_['lambda_FH'] = df_cb_uns_pre_SC_['lambda_FH_beta'] + df_cb_uns_pre_SC_['lambda_FH_beam']# + df_cb_uns_pre_SC_['lambda_FH_alpha']\n",
    "    df_cb_uns_pre_SC_['lambda_FH'] = df_cb_uns_pre_SC_['lambda_FH'] > 1.\n",
    "\n",
    "    df_cb_uns_pre_SC_['Pow_core'][df_cb_uns_pre_SC_['Pow_core'] < 0] = 0\n",
    "    df_cb_uns_pre_SC_['Pow_beam'][df_cb_uns_pre_SC_['Pow_beam'] < 0] = 0\n",
    "\n",
    "    \n",
    "    column_list_cb_ = ['beta_par_core', 'alph_c', 'kB_angle', \\\n",
    "                       'tau_b', 'D_b', 'alph_b', 'vv_b', 'Pow_core', 'Pow_beam', \\\n",
    "                       'uns_IC', 'uns_FM', 'uns_OFH', 'uns_core', 'lambda_FH']\n",
    "\n",
    "    df_cb_uns_pre_SC_cut_ = df_cb_uns_pre_SC_[column_list_cb_]\n",
    "    \n",
    "    df_cb_uns_pre_SC_cut_[['beta_par_core', 'alph_c']] = np.log10(df_cb_uns_pre_SC_cut_[['beta_par_core', 'alph_c']])\n",
    "    df_cb_uns_pre_SC_cut_.rename(columns={\"beta_par_core\": \"log_beta_par_core\", \"alph_c\": \"log_alph_c\"}, inplace = True)\n",
    "    \n",
    "    df_cb_uns_post_SC_ = df_cb_uns_pre_SC_cut_.copy()\n",
    "    df_cb_uns_post_SC_['cluster'] = gmm_cb.predict(df_cb_uns_pre_SC_cut_.values)\n",
    "    \n",
    "    df_cb_uns_post_SC_[['log_beta_par_core', 'log_alph_c']] = \\\n",
    "    pow(10., df_cb_uns_post_SC_[['log_beta_par_core', 'log_alph_c']])\n",
    "    df_cb_uns_post_SC_.rename(columns={\"log_beta_par_core\": \"beta_par_core\", \"log_alph_c\": \"alph_c\"}, inplace = True)\n",
    "    \n",
    "    df_cb_uns_post_SC_['ins_type'] = np.nan\n",
    "    ins_types_cb_ = ['Oblique FM (B); resonant with Core', 'IC (B); $T_\\perp/T_{||} < 1$', 'Oblique FM (B)', \\\n",
    "                    'Oblique Firehose', 'IC (B); $T_\\perp/T_{||} > 1$', 'Parallel Firehose', 'IC (B), unstable core', 'IC (C)']\n",
    "    for cluster, ins_type in zip(np.arange(8), ins_types_cb_):\n",
    "        df_cb_uns_post_SC_['ins_type'][df_cb_uns_post_SC_['cluster'] == cluster] = ins_type\n",
    "    \n",
    "    df_cb_post_SC_ = df_cb_.copy()\n",
    "    df_cb_post_SC_['ins_type'] = np.nan\n",
    "    df_cb_post_SC_.loc[df_cb_uns_post_SC_.index, ['ins_type']] = df_cb_uns_post_SC_['ins_type']\n",
    "    \n",
    "    return df_cb_post_SC_"
   ]
  },
  {
   "cell_type": "code",
   "execution_count": null,
   "id": "4e1d7aaa",
   "metadata": {},
   "outputs": [],
   "source": []
  },
  {
   "cell_type": "markdown",
   "id": "f3d84841",
   "metadata": {},
   "source": [
    "### run SAVIC-C - CB "
   ]
  },
  {
   "cell_type": "code",
   "execution_count": null,
   "id": "e1ccd634",
   "metadata": {
    "scrolled": true
   },
   "outputs": [],
   "source": [
    "df_cb_post_SC = SAVIC_C_CB(pd.read_hdf('00_SAVIC_Examples/SAVIC_Examples.h5', key = 'SAVIC-Q_CB_post_Q'))\n",
    "df_cb_post_SC"
   ]
  },
  {
   "cell_type": "code",
   "execution_count": null,
   "id": "e9d157b0",
   "metadata": {},
   "outputs": [],
   "source": []
  },
  {
   "cell_type": "markdown",
   "id": "f167696f",
   "metadata": {},
   "source": [
    "## SAVIC-C - core \\& $\\alpha$"
   ]
  },
  {
   "cell_type": "markdown",
   "id": "839ad064",
   "metadata": {},
   "source": [
    "### load SAVIC-C - C$\\alpha$ GM Classifier"
   ]
  },
  {
   "cell_type": "code",
   "execution_count": null,
   "id": "b28902d0",
   "metadata": {},
   "outputs": [],
   "source": [
    "gmm_ca_name = 'Output/ML/models/GMM_CA/GMM_CA'\n",
    "means = np.load(gmm_ca_name + '_means.npy')\n",
    "covar = np.load(gmm_ca_name + '_covariances.npy')\n",
    "gmm_ca = GaussianMixture(n_components = len(means), covariance_type='full')\n",
    "gmm_ca.precisions_cholesky_ = np.linalg.cholesky(np.linalg.inv(covar))\n",
    "gmm_ca.weights_ = np.load(gmm_ca_name + '_weights.npy')\n",
    "gmm_ca.means_ = means\n",
    "gmm_ca.covariances_ = covar"
   ]
  },
  {
   "cell_type": "code",
   "execution_count": null,
   "id": "9879c025",
   "metadata": {},
   "outputs": [],
   "source": []
  },
  {
   "cell_type": "markdown",
   "id": "887d20d2",
   "metadata": {},
   "source": [
    "### load SAVIC-C - C$\\alpha$ processing function"
   ]
  },
  {
   "cell_type": "code",
   "execution_count": null,
   "id": "dd00cd75",
   "metadata": {
    "code_folding": [
     0
    ]
   },
   "outputs": [],
   "source": [
    "def SAVIC_C_CA(df_ca_):\n",
    "    \n",
    "    df_ca_uns_ = df_ca_[df_ca_['unstable']].drop(columns = ['unstable'])\n",
    "    \n",
    "    df_ca_uns_pre_SC_ = df_ca_uns_.copy()\n",
    "\n",
    "    df_ca_uns_pre_SC_['uns_IC'] = (1. + 0.367 / ( df_ca_uns_pre_SC_['beta_par_core'] - 0.011 )**0.364) < df_ca_uns_pre_SC_['alph_c']\n",
    "    df_ca_uns_pre_SC_['uns_Mirror'] = (1. + 0.702 / ( df_ca_uns_pre_SC_['beta_par_core'] + 0.009 )**0.674) < df_ca_uns_pre_SC_['alph_c']\n",
    "    df_ca_uns_pre_SC_['uns_FM'] = (1. - 0.408 / ( df_ca_uns_pre_SC_['beta_par_core'] - 0.410 )**0.529) > df_ca_uns_pre_SC_['alph_c']\n",
    "    df_ca_uns_pre_SC_['uns_OFH'] = (1. - 1.454 / ( df_ca_uns_pre_SC_['beta_par_core'] + 0.178 )**1.023) > df_ca_uns_pre_SC_['alph_c']\n",
    "    df_ca_uns_pre_SC_['uns_core'] = df_ca_uns_pre_SC_['uns_OFH'] | df_ca_uns_pre_SC_['uns_FM'] | df_ca_uns_pre_SC_['uns_Mirror'] | df_ca_uns_pre_SC_['uns_IC']\n",
    "\n",
    "    df_ca_uns_pre_SC_['beta_par_alpha'] = df_ca_uns_pre_SC_['beta_par_core'] * df_ca_uns_pre_SC_['D_a'] / df_ca_uns_pre_SC_['tau_a']\n",
    "    df_ca_uns_pre_SC_['lambda_FH_beta'] = ( (df_ca_uns_pre_SC_['beta_par_core'] + df_ca_uns_pre_SC_['beta_par_alpha']) - \\\n",
    "    (df_ca_uns_pre_SC_['beta_par_core'] * df_ca_uns_pre_SC_['alph_c'] + df_ca_uns_pre_SC_['beta_par_alpha'] * df_ca_uns_pre_SC_['alph_a']) ) / 2.\n",
    "    df_ca_uns_pre_SC_['lambda_FH_alpha'] = 4 * df_ca_uns_pre_SC_['D_a'] / (1. + df_ca_uns_pre_SC_['D_a'] + 4 * df_ca_uns_pre_SC_['D_a']) * df_ca_uns_pre_SC_['vv_a']**2.\n",
    "    df_ca_uns_pre_SC_['lambda_FH'] = df_ca_uns_pre_SC_['lambda_FH_beta'] + df_ca_uns_pre_SC_['lambda_FH_alpha']\n",
    "    df_ca_uns_pre_SC_['lambda_FH'] = df_ca_uns_pre_SC_['lambda_FH'] > 1.\n",
    "\n",
    "    df_ca_uns_pre_SC_['Pow_core'][df_ca_uns_pre_SC_['Pow_core'] < 0] = 0\n",
    "    df_ca_uns_pre_SC_['Pow_alpha'][df_ca_uns_pre_SC_['Pow_alpha'] < 0] = 0\n",
    "    \n",
    "    column_list_ca_ = ['beta_par_core', 'alph_c', 'kB_angle', \\\n",
    "                       'tau_a', 'D_a', 'alph_a', 'vv_a', 'Pow_core', 'Pow_alpha', \\\n",
    "                       'uns_IC', 'uns_FM', 'uns_OFH', 'uns_core', 'lambda_FH']\n",
    "\n",
    "    df_ca_uns_pre_SC_cut_ = df_ca_uns_pre_SC_[column_list_ca_]\n",
    "    \n",
    "    df_ca_uns_pre_SC_cut_[['beta_par_core', 'alph_c']] = np.log10(df_ca_uns_pre_SC_cut_[['beta_par_core', 'alph_c']])\n",
    "    df_ca_uns_pre_SC_cut_.rename(columns={\"beta_par_core\": \"log_beta_par_core\", \"alph_c\": \"log_alph_c\"}, inplace = True)\n",
    "    \n",
    "    df_ca_uns_post_SC_ = df_ca_uns_pre_SC_cut_.copy()\n",
    "    df_ca_uns_post_SC_['cluster'] = gmm_ca.predict(df_ca_uns_pre_SC_cut_.values)\n",
    "    \n",
    "    df_ca_uns_post_SC_['ins_type'] = np.nan\n",
    "    ins_types_ca_ = ['Parallel Firehose', 'IC (A)', 'Oblique Firehose', \\\n",
    "                     'CGL Firehose; Mirror', 'A anis; borderline PFH', 'IC (C)']\n",
    "    for cluster, ins_type in zip(np.arange(6), ins_types_ca_):\n",
    "        df_ca_uns_post_SC_['ins_type'][df_ca_uns_post_SC_['cluster'] == cluster] = ins_type\n",
    "    \n",
    "    df_ca_post_SC_ = df_ca_.copy()\n",
    "    df_ca_post_SC_['ins_type'] = np.nan\n",
    "    df_ca_post_SC_.loc[df_ca_uns_post_SC_.index, ['ins_type']] = df_ca_uns_post_SC_['ins_type']\n",
    "    \n",
    "    return df_ca_post_SC_"
   ]
  },
  {
   "cell_type": "markdown",
   "id": "a210a741",
   "metadata": {},
   "source": [
    "### run SAVIC-C - C$\\alpha$ "
   ]
  },
  {
   "cell_type": "code",
   "execution_count": null,
   "id": "02273366",
   "metadata": {
    "scrolled": true
   },
   "outputs": [],
   "source": [
    "df_ca_post_SP = SAVIC_C_CA(pd.read_hdf('00_SAVIC_Examples/SAVIC_Examples.h5', key = 'SAVIC-Q_CA_post_Q'))\n",
    "df_ca_post_SP"
   ]
  },
  {
   "cell_type": "code",
   "execution_count": null,
   "id": "ab1da0ad",
   "metadata": {},
   "outputs": [],
   "source": []
  },
  {
   "cell_type": "markdown",
   "id": "2e4030ea",
   "metadata": {},
   "source": [
    "## SAVIC-C - core, beam \\& $\\alpha$"
   ]
  },
  {
   "cell_type": "markdown",
   "id": "b884ee8a",
   "metadata": {},
   "source": [
    "### load SAVIC-C - CB$\\alpha$ XGB classifier "
   ]
  },
  {
   "cell_type": "code",
   "execution_count": null,
   "id": "b0ae49a0",
   "metadata": {},
   "outputs": [],
   "source": [
    "gmm_cba_name = 'Output/ML/models/GMM_CBA/GMM_CBA'\n",
    "means = np.load(gmm_cba_name + '_means.npy')\n",
    "covar = np.load(gmm_cba_name + '_covariances.npy')\n",
    "gmm_cba = GaussianMixture(n_components = len(means), covariance_type='full')\n",
    "gmm_cba.precisions_cholesky_ = np.linalg.cholesky(np.linalg.inv(covar))\n",
    "gmm_cba.weights_ = np.load(gmm_cba_name + '_weights.npy')\n",
    "gmm_cba.means_ = means\n",
    "gmm_cba.covariances_ = covar"
   ]
  },
  {
   "cell_type": "markdown",
   "id": "67bebb85",
   "metadata": {},
   "source": [
    "### load SAVIC-C - CB$\\alpha$ processing function"
   ]
  },
  {
   "cell_type": "code",
   "execution_count": null,
   "id": "9f0206da",
   "metadata": {
    "code_folding": [
     0
    ]
   },
   "outputs": [],
   "source": [
    "def SAVIC_C_CBA(df_cba_):\n",
    "    df_cba_uns_ = df_cba_[df_cba_['unstable']].drop(columns = ['unstable'])\n",
    "    \n",
    "    df_cba_uns_pre_SC_ = df_cba_uns_.copy()\n",
    "\n",
    "    df_cba_uns_pre_SC_['uns_IC'] = (1. + 0.367 / ( df_cba_uns_pre_SC_['beta_par_core'] - 0.011 )**0.364) < df_cba_uns_pre_SC_['alph_c']\n",
    "    df_cba_uns_pre_SC_['uns_Mirror'] = (1. + 0.702 / ( df_cba_uns_pre_SC_['beta_par_core'] + 0.009 )**0.674) < df_cba_uns_pre_SC_['alph_c']\n",
    "    df_cba_uns_pre_SC_['uns_FM'] = (1. - 0.408 / ( df_cba_uns_pre_SC_['beta_par_core'] - 0.410 )**0.529) > df_cba_uns_pre_SC_['alph_c']\n",
    "    df_cba_uns_pre_SC_['uns_OFH'] = (1. - 1.454 / ( df_cba_uns_pre_SC_['beta_par_core'] + 0.178 )**1.023) > df_cba_uns_pre_SC_['alph_c']\n",
    "    df_cba_uns_pre_SC_['uns_core'] = df_cba_uns_pre_SC_['uns_OFH'] | df_cba_uns_pre_SC_['uns_FM'] | df_cba_uns_pre_SC_['uns_Mirror'] | df_cba_uns_pre_SC_['uns_IC']\n",
    "\n",
    "\n",
    "    df_cba_uns_pre_SC_['beta_par_beam'] = df_cba_uns_pre_SC_['beta_par_core'] * df_cba_uns_pre_SC_['D_b'] / df_cba_uns_pre_SC_['tau_b']\n",
    "    df_cba_uns_pre_SC_['beta_par_alpha'] = df_cba_uns_pre_SC_['beta_par_core'] * df_cba_uns_pre_SC_['D_a'] / df_cba_uns_pre_SC_['tau_a']\n",
    "\n",
    "    df_cba_uns_pre_SC_['lambda_FH_beta'] = ( (df_cba_uns_pre_SC_['beta_par_core'] + df_cba_uns_pre_SC_['beta_par_beam'] + df_cba_uns_pre_SC_['beta_par_alpha']) - \\\n",
    "    (df_cba_uns_pre_SC_['beta_par_core'] * df_cba_uns_pre_SC_['alph_c'] + df_cba_uns_pre_SC_['beta_par_beam'] * df_cba_uns_pre_SC_['alph_b'] + \\\n",
    "    df_cba_uns_pre_SC_['beta_par_alpha'] * df_cba_uns_pre_SC_['alph_a']) ) / 2.\n",
    "\n",
    "    df_cba_uns_pre_SC_['lambda_FH_alpha'] = 4 * df_cba_uns_pre_SC_['D_a'] / (1. + df_cba_uns_pre_SC_['D_b'] + 4 * df_cba_uns_pre_SC_['D_a']) * df_cba_uns_pre_SC_['vv_a']**2.\n",
    "    df_cba_uns_pre_SC_['lambda_FH_beam'] = df_cba_uns_pre_SC_['D_b'] / (1. + df_cba_uns_pre_SC_['D_b'] + 4 * df_cba_uns_pre_SC_['D_a']) * df_cba_uns_pre_SC_['vv_b']**2.\n",
    "    df_cba_uns_pre_SC_['lambda_FH'] = df_cba_uns_pre_SC_['lambda_FH_beta'] + df_cba_uns_pre_SC_['lambda_FH_alpha'] + df_cba_uns_pre_SC_['lambda_FH_beam']\n",
    "    df_cba_uns_pre_SC_['lambda_FH'] = df_cba_uns_pre_SC_['lambda_FH'] > 1.\n",
    "\n",
    "    df_cba_uns_pre_SC_['Pow_core'][df_cba_uns_pre_SC_['Pow_core'] < 0] = 0\n",
    "    df_cba_uns_pre_SC_['Pow_beam'][df_cba_uns_pre_SC_['Pow_beam'] < 0] = 0\n",
    "    df_cba_uns_pre_SC_['Pow_alpha'][df_cba_uns_pre_SC_['Pow_alpha'] < 0] = 0\n",
    "\n",
    "    column_list_cba_ = ['beta_par_core', 'alph_c', 'kB_angle', \\\n",
    "                        'tau_b', 'alph_b', 'D_b', 'vv_b', \\\n",
    "                        'tau_a', 'D_a', 'alph_a', 'vv_a', 'Pow_core', 'Pow_beam', 'Pow_alpha', \\\n",
    "                        'uns_IC', 'uns_FM', 'uns_OFH', 'uns_core', 'lambda_FH']\n",
    "\n",
    "    df_cba_uns_pre_SC_cut_ = df_cba_uns_pre_SC_[column_list_cba_]\n",
    "    \n",
    "    df_cba_uns_pre_SC_cut_[['beta_par_core', 'alph_c']] = np.log10(df_cba_uns_pre_SC_cut_[['beta_par_core', 'alph_c']])\n",
    "    df_cba_uns_pre_SC_cut_.rename(columns={\"beta_par_core\": \"log_beta_par_core\", \"alph_c\": \"log_alph_c\"}, inplace = True)\n",
    "    \n",
    "    df_cba_uns_post_SC_ = df_cba_uns_pre_SC_cut_.copy()\n",
    "    df_cba_uns_post_SC_['cluster'] = gmm_cba.predict(df_cba_uns_pre_SC_cut_.values)\n",
    "    \n",
    "    df_cba_uns_post_SC_[['log_beta_par_core', 'log_alph_c']] = \\\n",
    "    pow(10., df_cba_uns_post_SC_[['log_beta_par_core', 'log_alph_c']])\n",
    "    df_cba_uns_post_SC_.rename(columns={\"log_beta_par_core\": \"beta_par_core\", \"log_alph_c\": \"alph_c\"}, inplace = True)\n",
    "    \n",
    "    df_cba_uns_post_SC_['r_cluster'] = np.nan\n",
    "    df_cba_uns_post_SC_['r_cluster'][df_cba_uns_post_SC_['cluster'] == 0] = 9\n",
    "    df_cba_uns_post_SC_['r_cluster'][df_cba_uns_post_SC_['cluster'] == 1] = 2\n",
    "    df_cba_uns_post_SC_['r_cluster'][df_cba_uns_post_SC_['cluster'] == 2] = 1\n",
    "    df_cba_uns_post_SC_['r_cluster'][df_cba_uns_post_SC_['cluster'] == 3] = 4\n",
    "    df_cba_uns_post_SC_['r_cluster'][df_cba_uns_post_SC_['cluster'] == 4] = 7\n",
    "    df_cba_uns_post_SC_['r_cluster'][df_cba_uns_post_SC_['cluster'] == 5] = 5\n",
    "    df_cba_uns_post_SC_['r_cluster'][df_cba_uns_post_SC_['cluster'] == 6] = 12\n",
    "    df_cba_uns_post_SC_['r_cluster'][df_cba_uns_post_SC_['cluster'] == 7] = 1\n",
    "    df_cba_uns_post_SC_['r_cluster'][df_cba_uns_post_SC_['cluster'] == 8] = 11\n",
    "    df_cba_uns_post_SC_['r_cluster'][df_cba_uns_post_SC_['cluster'] == 9] = 10\n",
    "    df_cba_uns_post_SC_['r_cluster'][df_cba_uns_post_SC_['cluster'] == 10] = 7\n",
    "    df_cba_uns_post_SC_['r_cluster'][df_cba_uns_post_SC_['cluster'] == 11] = 6\n",
    "    df_cba_uns_post_SC_['r_cluster'][df_cba_uns_post_SC_['cluster'] == 12] = 8\n",
    "    df_cba_uns_post_SC_['r_cluster'][df_cba_uns_post_SC_['cluster'] == 13] = 3\n",
    "\n",
    "    df_cba_uns_post_SC_['r_cluster'] = df_cba_uns_post_SC_['r_cluster'].astype(int)\n",
    "    \n",
    "    df_cba_uns_post_SC_['ins_type'] = np.nan\n",
    "    ins_types_cba_ = ['IC (C)', 'IC (C); A unstable', \\\n",
    "                      'IC (B), C unstable', 'IC (B); A unstable', 'IC (B); high B anis', 'IC (B); borderline PFH', \\\n",
    "                      'IC (A)', 'IC (A); C absorbing', \\\n",
    "                      'Oblique Firehose', 'Parallel Firehose', \\\n",
    "                      'FM (B), oblique', 'FM (B), oblique; mirror']\n",
    "    for cluster, ins_type in zip(np.arange(12), ins_types_cba_):\n",
    "        df_cba_uns_post_SC_['ins_type'][df_cba_uns_post_SC_['cluster'] == cluster] = ins_type\n",
    "    \n",
    "    df_cba_post_SC_ = df_cba_.copy()\n",
    "    df_cba_post_SC_['ins_type'] = np.nan\n",
    "    df_cba_post_SC_.loc[df_cba_uns_post_SC_.index, ['ins_type']] = df_cba_uns_post_SC_['ins_type']\n",
    "    \n",
    "    return df_cba_post_SC_"
   ]
  },
  {
   "cell_type": "code",
   "execution_count": null,
   "id": "dca6cf51",
   "metadata": {},
   "outputs": [],
   "source": []
  },
  {
   "cell_type": "markdown",
   "id": "3562a42c",
   "metadata": {},
   "source": [
    "### run SAVIC-C - CB$\\alpha$ "
   ]
  },
  {
   "cell_type": "code",
   "execution_count": null,
   "id": "88fdbfbe",
   "metadata": {
    "scrolled": true
   },
   "outputs": [],
   "source": [
    "df_cba_post_SC = SAVIC_C_CBA(pd.read_hdf('00_SAVIC_Examples/SAVIC_Examples.h5', key = 'SAVIC-Q_CBA_post_Q'))\n",
    "df_cba_post_SC"
   ]
  },
  {
   "cell_type": "code",
   "execution_count": null,
   "id": "c3b77690",
   "metadata": {},
   "outputs": [],
   "source": []
  }
 ],
 "metadata": {
  "kernelspec": {
   "display_name": "Python 3 (ipykernel)",
   "language": "python",
   "name": "python3"
  },
  "language_info": {
   "codemirror_mode": {
    "name": "ipython",
    "version": 3
   },
   "file_extension": ".py",
   "mimetype": "text/x-python",
   "name": "python",
   "nbconvert_exporter": "python",
   "pygments_lexer": "ipython3",
   "version": "3.9.16"
  },
  "varInspector": {
   "cols": {
    "lenName": 16,
    "lenType": 16,
    "lenVar": 40
   },
   "kernels_config": {
    "python": {
     "delete_cmd_postfix": "",
     "delete_cmd_prefix": "del ",
     "library": "var_list.py",
     "varRefreshCmd": "print(var_dic_list())"
    },
    "r": {
     "delete_cmd_postfix": ") ",
     "delete_cmd_prefix": "rm(",
     "library": "var_list.r",
     "varRefreshCmd": "cat(var_dic_list()) "
    }
   },
   "types_to_exclude": [
    "module",
    "function",
    "builtin_function_or_method",
    "instance",
    "_Feature"
   ],
   "window_display": false
  }
 },
 "nbformat": 4,
 "nbformat_minor": 5
}
